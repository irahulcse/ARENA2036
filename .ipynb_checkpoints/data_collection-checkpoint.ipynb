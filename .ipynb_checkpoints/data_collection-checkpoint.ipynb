{
 "cells": [
  {
   "cell_type": "code",
   "execution_count": 2,
   "metadata": {},
   "outputs": [
    {
     "name": "stdout",
     "output_type": "stream",
     "text": [
      "Collecting requests\n",
      "  Downloading requests-2.28.1-py3-none-any.whl (62 kB)\n",
      "\u001b[2K     \u001b[38;2;114;156;31m━━━━━━━━━━━━━━━━━━━━━━━━━━━━━━━━━━━━━━━━\u001b[0m \u001b[32m62.8/62.8 kB\u001b[0m \u001b[31m1.9 MB/s\u001b[0m eta \u001b[36m0:00:00\u001b[0m\n",
      "\u001b[?25hCollecting idna<4,>=2.5\n",
      "  Using cached idna-3.3-py3-none-any.whl (61 kB)\n",
      "Collecting certifi>=2017.4.17\n",
      "  Downloading certifi-2022.6.15-py3-none-any.whl (160 kB)\n",
      "\u001b[2K     \u001b[38;2;114;156;31m━━━━━━━━━━━━━━━━━━━━━━━━━━━━━━━━━━━━━━━\u001b[0m \u001b[32m160.2/160.2 kB\u001b[0m \u001b[31m2.9 MB/s\u001b[0m eta \u001b[36m0:00:00\u001b[0m MB/s\u001b[0m eta \u001b[36m0:00:01\u001b[0m\n",
      "\u001b[?25hCollecting charset-normalizer<3,>=2\n",
      "  Downloading charset_normalizer-2.1.0-py3-none-any.whl (39 kB)\n",
      "Collecting urllib3<1.27,>=1.21.1\n",
      "  Downloading urllib3-1.26.9-py2.py3-none-any.whl (138 kB)\n",
      "\u001b[2K     \u001b[38;2;114;156;31m━━━━━━━━━━━━━━━━━━━━━━━━━━━━━━━━━━━━━━━\u001b[0m \u001b[32m139.0/139.0 kB\u001b[0m \u001b[31m5.0 MB/s\u001b[0m eta \u001b[36m0:00:00\u001b[0m\n",
      "\u001b[?25hInstalling collected packages: urllib3, idna, charset-normalizer, certifi, requests\n",
      "Successfully installed certifi-2022.6.15 charset-normalizer-2.1.0 idna-3.3 requests-2.28.1 urllib3-1.26.9\n"
     ]
    }
   ],
   "source": [
    "!pip install requests"
   ]
  },
  {
   "cell_type": "code",
   "execution_count": 254,
   "metadata": {},
   "outputs": [],
   "source": [
    "import pandas as pd\n",
    "import matplotlib.pyplot as plt"
   ]
  },
  {
   "cell_type": "code",
   "execution_count": 1,
   "metadata": {},
   "outputs": [],
   "source": [
    "import requests\n",
    "import os\n",
    "import json"
   ]
  },
  {
   "cell_type": "code",
   "execution_count": 2,
   "metadata": {},
   "outputs": [],
   "source": [
    "sensor_station = \"https://luftdaten.berlin.de/api/stations?active=true&include_hidden=true\""
   ]
  },
  {
   "cell_type": "code",
   "execution_count": 3,
   "metadata": {},
   "outputs": [],
   "source": [
    "data = requests.get(sensor_station)"
   ]
  },
  {
   "cell_type": "code",
   "execution_count": 17,
   "metadata": {},
   "outputs": [],
   "source": [
    "\n",
    "with open('sensor_station.json', 'w') as json_file:\n",
    "    json.dump(data.json(), json_file)\n"
   ]
  },
  {
   "cell_type": "code",
   "execution_count": 18,
   "metadata": {},
   "outputs": [],
   "source": [
    "json_data = data.json()"
   ]
  },
  {
   "cell_type": "code",
   "execution_count": 50,
   "metadata": {},
   "outputs": [
    {
     "name": "stdout",
     "output_type": "stream",
     "text": [
      "1 2\n",
      "2 3\n",
      "3 4\n",
      "4 5\n",
      "5 6\n",
      "6 7\n",
      "7 8\n",
      "8 9\n",
      "9 10\n",
      "10 11\n",
      "11 12\n"
     ]
    }
   ],
   "source": [
    "# for code in json_data:\n",
    "# main_data = []\n",
    "for i in range(1, 12):\n",
    "    print(i, i+1)\n",
    "    station_code = 'mc042'\n",
    "    data_api = f\"https://luftdaten.berlin.de/api/stations/{station_code}/data?period=24h&timespan=custom&start=01.{i}.2022%2000%3A00&end=01.{i+1}.2022%2000%3A00\"\n",
    "    dt = requests.get(data_api)\n",
    "    main_data += dt.json()\n",
    "#     path = os.path.join(os.getcwd(), f'data_station_wise/01-{i}-19-01-{i+1}-19') \n",
    "#     if not os.path.isdir(path): \n",
    "#         os.makedirs(path)\n",
    "#     with open(f'data_station_wise/01-{i}-19-01-{i+1}-19/{station_code}.json', 'w') as json_file:\n",
    "#         json.dump(dt.json(), json_file)\n"
   ]
  },
  {
   "cell_type": "code",
   "execution_count": 47,
   "metadata": {},
   "outputs": [],
   "source": [
    "data_api = f\"https://luftdaten.berlin.de/api/stations/{station_code}/data?period=24h&timespan=custom&start=01.12.2021%2000%3A00&end=01.01.2022%2000%3A00\"\n",
    "dt = requests.get(data_api)"
   ]
  },
  {
   "cell_type": "code",
   "execution_count": 51,
   "metadata": {},
   "outputs": [
    {
     "data": {
      "text/plain": [
       "4560"
      ]
     },
     "execution_count": 51,
     "metadata": {},
     "output_type": "execute_result"
    }
   ],
   "source": [
    "len(main_data)"
   ]
  },
  {
   "cell_type": "code",
   "execution_count": 48,
   "metadata": {},
   "outputs": [],
   "source": [
    "main_data += dt.json()"
   ]
  },
  {
   "cell_type": "code",
   "execution_count": 52,
   "metadata": {},
   "outputs": [],
   "source": [
    "with open(f'mc042.json', 'w') as json_file:\n",
    "    json.dump(main_data, json_file)\n"
   ]
  },
  {
   "cell_type": "code",
   "execution_count": 6,
   "metadata": {},
   "outputs": [],
   "source": [
    "station_code = 'MC221'"
   ]
  },
  {
   "cell_type": "code",
   "execution_count": 11,
   "metadata": {},
   "outputs": [],
   "source": [
    "data_api = f\"https://luftdaten.berlin.de/api/stations/MC221/data?period=24h&timespan=custom&start=01.01.2022%2000%3A00&end=01.02.2022%2000%3A00\"\n",
    "dt = requests.get(data_api)\n"
   ]
  },
  {
   "cell_type": "code",
   "execution_count": 74,
   "metadata": {},
   "outputs": [],
   "source": [
    "for code in json_data:\n",
    "    station_code = code['code']\n",
    "    data_api = f\"https://luftdaten.berlin.de/api/stations/{station_code}/data?period=1h&timespan=custom&start=01.12.2019%2000%3A00&end=01.01.2020%2000%3A00\"\n",
    "    dt = requests.get(data_api)\n",
    "    path = os.path.join(os.getcwd(), f'data_station_wise/01-12-19-01-01-20') \n",
    "    if not os.path.isdir(path): \n",
    "        os.makedirs(path)\n",
    "    with open(f'data_station_wise/01-12-19-01-01-20/{station_code}.json', 'w') as json_file:\n",
    "        json.dump(dt.json(), json_file)\n"
   ]
  },
  {
   "cell_type": "code",
   "execution_count": null,
   "metadata": {},
   "outputs": [],
   "source": []
  },
  {
   "cell_type": "code",
   "execution_count": 25,
   "metadata": {},
   "outputs": [],
   "source": [
    "station_code=json_data[0]['code']"
   ]
  },
  {
   "cell_type": "code",
   "execution_count": 26,
   "metadata": {},
   "outputs": [],
   "source": [
    "data_api = f\"https://luftdaten.berlin.de/api/stations/{station_code}/data?period=1h&timespan=custom&start=01.01.2019%2000%3A00&end=01.02.2019%2000%3A00\"\n"
   ]
  },
  {
   "cell_type": "code",
   "execution_count": 27,
   "metadata": {},
   "outputs": [],
   "source": [
    "dt = requests.get(data_api)"
   ]
  },
  {
   "cell_type": "code",
   "execution_count": 82,
   "metadata": {},
   "outputs": [
    {
     "data": {
      "text/plain": [
       "['01-9-19-01-10-19',\n",
       " '.DS_Store',\n",
       " '01-6-19-01-7-19',\n",
       " '01-10-19-01-11-19',\n",
       " '01-11-19-01-12-19',\n",
       " '01-1-19-01-2-19',\n",
       " '01-8-19-01-9-19',\n",
       " '01-4-19-01-5-19',\n",
       " '01-2-19-01-3-19',\n",
       " '.ipynb_checkpoints',\n",
       " '01-3-19-01-4-19',\n",
       " '01-12-19-01-01-20',\n",
       " '01-5-19-01-6-19',\n",
       " '01-7-19-01-8-19']"
      ]
     },
     "execution_count": 82,
     "metadata": {},
     "output_type": "execute_result"
    }
   ],
   "source": [
    "os.listdir('data_station_wise/')"
   ]
  },
  {
   "cell_type": "code",
   "execution_count": 92,
   "metadata": {},
   "outputs": [],
   "source": [
    "inside_files = ['MC221'] #, 'mc143', 'mc042']\n",
    "for file_n in inside_files:\n",
    "    data_main = []\n",
    "    for folder in os.listdir(f'data_station_wise/'):\n",
    "        if folder != '.DS_Store' and folder != '.ipynb_checkpoints':\n",
    "            file_dt = f'./data_station_wise/{folder}/{file_n}.json'\n",
    "            f = open(file_dt)\n",
    "            data = json.load(f)\n",
    "            data_main += data\n",
    "    with open(f'{folder}_{file_n}.json', 'w') as json_file:\n",
    "        json.dump(data_main, json_file)\n"
   ]
  },
  {
   "cell_type": "code",
   "execution_count": 93,
   "metadata": {},
   "outputs": [
    {
     "data": {
      "text/plain": [
       "[]"
      ]
     },
     "execution_count": 93,
     "metadata": {},
     "output_type": "execute_result"
    }
   ],
   "source": [
    "data_main"
   ]
  },
  {
   "cell_type": "code",
   "execution_count": 94,
   "metadata": {},
   "outputs": [],
   "source": [
    "data_main = []\n",
    "for folder in os.listdir(f'data_station_wise/'):\n",
    "    if folder != '.DS_Store' and folder != '.ipynb_checkpoints':\n",
    "        file_dt = f'./data_station_wise/{folder}/{file_n}.json'\n",
    "        f = open(file_dt)\n",
    "        data = json.load(f)\n",
    "        data_main += data"
   ]
  },
  {
   "cell_type": "code",
   "execution_count": 95,
   "metadata": {},
   "outputs": [
    {
     "data": {
      "text/plain": [
       "[]"
      ]
     },
     "execution_count": 95,
     "metadata": {},
     "output_type": "execute_result"
    }
   ],
   "source": [
    "data_main"
   ]
  },
  {
   "cell_type": "code",
   "execution_count": 97,
   "metadata": {},
   "outputs": [],
   "source": [
    "file_dt = f'./data_station_wise/{folder}/{file_n}.json'\n",
    "f = open(file_dt)\n",
    "data = json.load(f)"
   ]
  },
  {
   "cell_type": "code",
   "execution_count": 98,
   "metadata": {},
   "outputs": [
    {
     "data": {
      "text/plain": [
       "[]"
      ]
     },
     "execution_count": 98,
     "metadata": {},
     "output_type": "execute_result"
    }
   ],
   "source": [
    "data"
   ]
  },
  {
   "cell_type": "markdown",
   "metadata": {},
   "source": [
    "## Fetching the data from 01-06-2022 to 01-07-2022"
   ]
  },
  {
   "cell_type": "code",
   "execution_count": 67,
   "metadata": {},
   "outputs": [],
   "source": [
    "data_main = []"
   ]
  },
  {
   "cell_type": "code",
   "execution_count": 72,
   "metadata": {},
   "outputs": [
    {
     "name": "stdout",
     "output_type": "stream",
     "text": [
      "1 2\n",
      "2 3\n",
      "3 4\n",
      "4 5\n",
      "5 6\n",
      "6 7\n"
     ]
    }
   ],
   "source": [
    "for i in range(1, 7):\n",
    "    print(i, i+1)\n",
    "    station_code = 'mc042'\n",
    "    data_api = f\"https://luftdaten.berlin.de/api/stations/{station_code}/data?period=1h&timespan=custom&start=01.{i}.2022%2000%3A00&end=01.{i+1}.2022%2000%3A00\"\n",
    "    dt = requests.get(data_api)\n",
    "    data_main += dt.json()"
   ]
  },
  {
   "cell_type": "code",
   "execution_count": 69,
   "metadata": {},
   "outputs": [],
   "source": [
    "data_api = f\"https://luftdaten.berlin.de/api/stations/{station_code}/data?period=1h&timespan=custom&start=01.12.2021%2000%3A00&end=01.1.2022%2000%3A00\"\n",
    "dt = requests.get(data_api)\n"
   ]
  },
  {
   "cell_type": "code",
   "execution_count": 71,
   "metadata": {},
   "outputs": [],
   "source": [
    "data_main += dt.json()"
   ]
  },
  {
   "cell_type": "code",
   "execution_count": 73,
   "metadata": {},
   "outputs": [],
   "source": [
    "with open(f'mc042_01-01-21-01-07-22.json', 'w') as json_file:\n",
    "    json.dump(data_main, json_file)"
   ]
  },
  {
   "cell_type": "code",
   "execution_count": 19,
   "metadata": {},
   "outputs": [],
   "source": [
    "data_api = f\"https://luftdaten.berlin.de/api/stations/{station_code}/data?period=1h&timespan=custom&start=01.11.2021%2000%3A00&end=01.12.2021%2000%3A00\"\n",
    "dt = requests.get(data_api)\n",
    "data_main += dt.json()"
   ]
  },
  {
   "cell_type": "code",
   "execution_count": null,
   "metadata": {},
   "outputs": [],
   "source": [
    "path = os.path.join(os.getcwd(), f'01-{i}-22-01-{i+1}-22') \n",
    "if not os.path.isdir(path): \n",
    "    os.makedirs(path)\n",
    "with open(f'01-01-22-01-01-22/{station_code}.json', 'w') as json_file:\n",
    "    json.dump(dt.json(), json_file)\n"
   ]
  },
  {
   "cell_type": "code",
   "execution_count": 4,
   "metadata": {},
   "outputs": [],
   "source": [
    "station_code = 'MC221'\n",
    "data_api = f\"https://luftdaten.berlin.de/api/stations/{station_code}/data?period=1h&timespan=custom&start=01.06.2021%2000%3A00&end=01.07.2021%2000%3A00\"\n",
    "dt = requests.get(data_api)"
   ]
  },
  {
   "cell_type": "code",
   "execution_count": 7,
   "metadata": {},
   "outputs": [],
   "source": [
    "data_main = dt.json()"
   ]
  },
  {
   "cell_type": "code",
   "execution_count": 38,
   "metadata": {},
   "outputs": [
    {
     "data": {
      "text/plain": [
       "({'datetime': '2021-07-01T00:00:00+02:00',\n",
       "  'station': 'MC221',\n",
       "  'core': 'pm10',\n",
       "  'component': 'pm10_1h',\n",
       "  'period': '1h',\n",
       "  'value': 19},\n",
       " {'datetime': '2021-11-01T01:00:00+01:00',\n",
       "  'station': 'MC221',\n",
       "  'core': 'pm10',\n",
       "  'component': 'pm10_1h',\n",
       "  'period': '1h',\n",
       "  'value': 35})"
      ]
     },
     "execution_count": 38,
     "metadata": {},
     "output_type": "execute_result"
    }
   ],
   "source": [
    "data_main[0], data_main[-10]"
   ]
  },
  {
   "cell_type": "code",
   "execution_count": 13,
   "metadata": {},
   "outputs": [
    {
     "data": {
      "text/plain": [
       "26230"
      ]
     },
     "execution_count": 13,
     "metadata": {},
     "output_type": "execute_result"
    }
   ],
   "source": [
    "len(data_main)"
   ]
  },
  {
   "cell_type": "markdown",
   "metadata": {},
   "source": [
    "## Fetching data for Weather from Bright Sky API"
   ]
  },
  {
   "cell_type": "code",
   "execution_count": 72,
   "metadata": {},
   "outputs": [],
   "source": [
    "from datetime import timedelta, date\n"
   ]
  },
  {
   "cell_type": "code",
   "execution_count": 233,
   "metadata": {},
   "outputs": [],
   "source": [
    "# 2021-07-16\n",
    "# 2022-04-13\n",
    "\n",
    "# 2021-06-05\n",
    "# 2022-06-10\n",
    "\n",
    "# 2021-08-31\n",
    "# 2022-05-21\n",
    "# 2022-07-18\n",
    "\n",
    "# 2021-04-11\n",
    "# 2021-11-06\n",
    "start_date = date(2021, 11, 6)"
   ]
  },
  {
   "cell_type": "code",
   "execution_count": 235,
   "metadata": {},
   "outputs": [],
   "source": [
    "start_date = date(2021, 1, 1)\n",
    "end_date = date(2022, 7, 5)"
   ]
  },
  {
   "cell_type": "code",
   "execution_count": 234,
   "metadata": {},
   "outputs": [
    {
     "name": "stdout",
     "output_type": "stream",
     "text": [
      "2021-11-06\n"
     ]
    }
   ],
   "source": [
    "print(start_date)"
   ]
  },
  {
   "cell_type": "code",
   "execution_count": 226,
   "metadata": {},
   "outputs": [],
   "source": [
    "weather_data = pd.DataFrame()"
   ]
  },
  {
   "cell_type": "code",
   "execution_count": 172,
   "metadata": {},
   "outputs": [],
   "source": [
    "fl = open('./data/weather_data/mc221_weather.json')"
   ]
  },
  {
   "cell_type": "code",
   "execution_count": 173,
   "metadata": {},
   "outputs": [],
   "source": [
    "w_data = json.load(fl)"
   ]
  },
  {
   "cell_type": "code",
   "execution_count": 174,
   "metadata": {},
   "outputs": [],
   "source": [
    "w_data += weather_data"
   ]
  },
  {
   "cell_type": "code",
   "execution_count": 175,
   "metadata": {},
   "outputs": [],
   "source": [
    "with open(f'./data/weather_data/mc221_weather.json', 'w') as json_file:\n",
    "    json.dump(w_data, json_file)"
   ]
  },
  {
   "cell_type": "code",
   "execution_count": 242,
   "metadata": {},
   "outputs": [],
   "source": [
    "w_data = pd.DataFrame()"
   ]
  },
  {
   "cell_type": "code",
   "execution_count": 237,
   "metadata": {},
   "outputs": [],
   "source": [
    "# for i in range(550):\n",
    "#     print(str(start_date))\n",
    "api_url = f\"https://api.brightsky.dev/weather?lat=52.4771&lon=13.4389&date={str(start_date)}&last_date={str(end_date)}\"\n",
    "dt = requests.get(api_url)\n",
    "# start_date = start_date + timedelta(1) \n",
    "df = pd.DataFrame.from_dict(dt.json()['weather'][:-1])\n",
    "w_data = w_data.append(df)\n",
    "#     precipitation = 0\n",
    "#     pressure_msl = 0\n",
    "#     sunshine = 0\n",
    "#     temperature = 0\n",
    "#     wind_direction = 0\n",
    "#     wind_speed = 0\n",
    "#     cloud_cover = 0\n",
    "#     dew_point = 0\n",
    "#     relative_humidity = 0\n",
    "#     visibility = 0\n",
    "#     wind_gust_direction = 0\n",
    "#     wind_gust_speed = 0\n",
    "#     for i in dt.json()['weather']:\n",
    "#         if str(start_date) in i['timestamp']:\n",
    "#             precipitation += i['precipitation']\n",
    "#             pressure_msl += i['pressure_msl']\n",
    "#             if type(i['sunshine']) != type(None):\n",
    "#                 sunshine += i['sunshine']\n",
    "#             temperature += i['temperature']\n",
    "#             wind_direction += i['wind_direction']\n",
    "#             wind_speed += i['wind_speed']\n",
    "#             cloud_cover += i['cloud_cover']\n",
    "#             dew_point += i['dew_point']\n",
    "#             if type(i['relative_humidity']) != type(None):\n",
    "#                 relative_humidity += i['relative_humidity']\n",
    "#             visibility += i['visibility']\n",
    "#             if type(i['wind_gust_direction']) != type(None):\n",
    "#                 wind_gust_direction += i['wind_gust_direction']\n",
    "#             wind_gust_speed += i['wind_gust_speed']\n",
    "#     precipitation = precipitation/24\n",
    "#     pressure_msl = pressure_msl/24\n",
    "#     sunshine = sunshine/24\n",
    "#     temperature = temperature/24\n",
    "#     wind_direction = wind_direction/24\n",
    "#     wind_speed = wind_speed/24\n",
    "#     cloud_cover = cloud_cover/24\n",
    "#     dew_point = dew_point/24\n",
    "#     relative_humidity = relative_humidity/24\n",
    "#     visibility = visibility/24\n",
    "#     wind_gust_direction = wind_gust_direction/24\n",
    "#     wind_gust_speed = wind_gust_speed/24\n",
    "#     weather_data += [{'timestamp': str(start_date),\n",
    "#       'precipitation': precipitation,\n",
    "#       'pressure_msl': pressure_msl,\n",
    "#       'sunshine': sunshine,\n",
    "#       'temperature': temperature,\n",
    "#       'wind_direction': wind_direction,\n",
    "#       'wind_speed': wind_speed,\n",
    "#       'cloud_cover': cloud_cover,\n",
    "#       'dew_point': dew_point,\n",
    "#       'relative_humidity': relative_humidity,\n",
    "#       'visibility': visibility,\n",
    "#       'wind_gust_direction': wind_gust_direction,\n",
    "#       'wind_gust_speed': wind_gust_speed}]"
   ]
  },
  {
   "cell_type": "code",
   "execution_count": 243,
   "metadata": {},
   "outputs": [],
   "source": [
    "df = pd.DataFrame.from_dict(dt.json()['weather'])\n",
    "w_data = w_data.append(df)"
   ]
  },
  {
   "cell_type": "code",
   "execution_count": 244,
   "metadata": {},
   "outputs": [
    {
     "data": {
      "text/html": [
       "<div>\n",
       "<style scoped>\n",
       "    .dataframe tbody tr th:only-of-type {\n",
       "        vertical-align: middle;\n",
       "    }\n",
       "\n",
       "    .dataframe tbody tr th {\n",
       "        vertical-align: top;\n",
       "    }\n",
       "\n",
       "    .dataframe thead th {\n",
       "        text-align: right;\n",
       "    }\n",
       "</style>\n",
       "<table border=\"1\" class=\"dataframe\">\n",
       "  <thead>\n",
       "    <tr style=\"text-align: right;\">\n",
       "      <th></th>\n",
       "      <th>timestamp</th>\n",
       "      <th>source_id</th>\n",
       "      <th>precipitation</th>\n",
       "      <th>pressure_msl</th>\n",
       "      <th>sunshine</th>\n",
       "      <th>temperature</th>\n",
       "      <th>wind_direction</th>\n",
       "      <th>wind_speed</th>\n",
       "      <th>cloud_cover</th>\n",
       "      <th>dew_point</th>\n",
       "      <th>relative_humidity</th>\n",
       "      <th>visibility</th>\n",
       "      <th>wind_gust_direction</th>\n",
       "      <th>wind_gust_speed</th>\n",
       "      <th>condition</th>\n",
       "      <th>fallback_source_ids</th>\n",
       "      <th>icon</th>\n",
       "    </tr>\n",
       "  </thead>\n",
       "  <tbody>\n",
       "    <tr>\n",
       "      <th>0</th>\n",
       "      <td>2021-01-01T00:00:00+00:00</td>\n",
       "      <td>6894</td>\n",
       "      <td>0.0</td>\n",
       "      <td>1005.7</td>\n",
       "      <td>0.0</td>\n",
       "      <td>2.0</td>\n",
       "      <td>150</td>\n",
       "      <td>6.5</td>\n",
       "      <td>100</td>\n",
       "      <td>-0.6</td>\n",
       "      <td>83.0</td>\n",
       "      <td>15000</td>\n",
       "      <td>140.0</td>\n",
       "      <td>11.2</td>\n",
       "      <td>dry</td>\n",
       "      <td>{'visibility': 124281, 'cloud_cover': 124281}</td>\n",
       "      <td>cloudy</td>\n",
       "    </tr>\n",
       "    <tr>\n",
       "      <th>1</th>\n",
       "      <td>2021-01-01T01:00:00+00:00</td>\n",
       "      <td>6894</td>\n",
       "      <td>0.0</td>\n",
       "      <td>1005.7</td>\n",
       "      <td>0.0</td>\n",
       "      <td>2.1</td>\n",
       "      <td>150</td>\n",
       "      <td>6.1</td>\n",
       "      <td>100</td>\n",
       "      <td>-1.4</td>\n",
       "      <td>78.0</td>\n",
       "      <td>10000</td>\n",
       "      <td>150.0</td>\n",
       "      <td>13.0</td>\n",
       "      <td>dry</td>\n",
       "      <td>{'visibility': 124281, 'cloud_cover': 124281}</td>\n",
       "      <td>cloudy</td>\n",
       "    </tr>\n",
       "    <tr>\n",
       "      <th>2</th>\n",
       "      <td>2021-01-01T02:00:00+00:00</td>\n",
       "      <td>6894</td>\n",
       "      <td>0.0</td>\n",
       "      <td>1005.6</td>\n",
       "      <td>0.0</td>\n",
       "      <td>1.9</td>\n",
       "      <td>150</td>\n",
       "      <td>7.2</td>\n",
       "      <td>100</td>\n",
       "      <td>-1.4</td>\n",
       "      <td>79.0</td>\n",
       "      <td>10000</td>\n",
       "      <td>130.0</td>\n",
       "      <td>14.0</td>\n",
       "      <td>dry</td>\n",
       "      <td>{'visibility': 124281, 'cloud_cover': 124281}</td>\n",
       "      <td>cloudy</td>\n",
       "    </tr>\n",
       "    <tr>\n",
       "      <th>3</th>\n",
       "      <td>2021-01-01T03:00:00+00:00</td>\n",
       "      <td>6894</td>\n",
       "      <td>0.0</td>\n",
       "      <td>1005.7</td>\n",
       "      <td>0.0</td>\n",
       "      <td>1.6</td>\n",
       "      <td>160</td>\n",
       "      <td>7.9</td>\n",
       "      <td>100</td>\n",
       "      <td>-1.1</td>\n",
       "      <td>82.0</td>\n",
       "      <td>15000</td>\n",
       "      <td>150.0</td>\n",
       "      <td>13.0</td>\n",
       "      <td>dry</td>\n",
       "      <td>{'visibility': 124281, 'cloud_cover': 124281}</td>\n",
       "      <td>cloudy</td>\n",
       "    </tr>\n",
       "    <tr>\n",
       "      <th>4</th>\n",
       "      <td>2021-01-01T04:00:00+00:00</td>\n",
       "      <td>6894</td>\n",
       "      <td>0.0</td>\n",
       "      <td>1005.6</td>\n",
       "      <td>0.0</td>\n",
       "      <td>1.5</td>\n",
       "      <td>160</td>\n",
       "      <td>5.0</td>\n",
       "      <td>100</td>\n",
       "      <td>-1.1</td>\n",
       "      <td>83.0</td>\n",
       "      <td>17000</td>\n",
       "      <td>150.0</td>\n",
       "      <td>8.6</td>\n",
       "      <td>dry</td>\n",
       "      <td>{'visibility': 124281, 'cloud_cover': 124281}</td>\n",
       "      <td>cloudy</td>\n",
       "    </tr>\n",
       "    <tr>\n",
       "      <th>...</th>\n",
       "      <td>...</td>\n",
       "      <td>...</td>\n",
       "      <td>...</td>\n",
       "      <td>...</td>\n",
       "      <td>...</td>\n",
       "      <td>...</td>\n",
       "      <td>...</td>\n",
       "      <td>...</td>\n",
       "      <td>...</td>\n",
       "      <td>...</td>\n",
       "      <td>...</td>\n",
       "      <td>...</td>\n",
       "      <td>...</td>\n",
       "      <td>...</td>\n",
       "      <td>...</td>\n",
       "      <td>...</td>\n",
       "      <td>...</td>\n",
       "    </tr>\n",
       "    <tr>\n",
       "      <th>13196</th>\n",
       "      <td>2022-07-04T20:00:00+00:00</td>\n",
       "      <td>206640</td>\n",
       "      <td>0.0</td>\n",
       "      <td>1018.1</td>\n",
       "      <td>1.0</td>\n",
       "      <td>20.3</td>\n",
       "      <td>320</td>\n",
       "      <td>8.6</td>\n",
       "      <td>12</td>\n",
       "      <td>7.7</td>\n",
       "      <td>44.0</td>\n",
       "      <td>60000</td>\n",
       "      <td>340.0</td>\n",
       "      <td>12.2</td>\n",
       "      <td>dry</td>\n",
       "      <td>{'visibility': 193071, 'cloud_cover': 193071}</td>\n",
       "      <td>clear-night</td>\n",
       "    </tr>\n",
       "    <tr>\n",
       "      <th>13197</th>\n",
       "      <td>2022-07-04T21:00:00+00:00</td>\n",
       "      <td>206640</td>\n",
       "      <td>0.0</td>\n",
       "      <td>1018.4</td>\n",
       "      <td>0.0</td>\n",
       "      <td>19.2</td>\n",
       "      <td>340</td>\n",
       "      <td>2.9</td>\n",
       "      <td>12</td>\n",
       "      <td>7.7</td>\n",
       "      <td>47.0</td>\n",
       "      <td>60000</td>\n",
       "      <td>30.0</td>\n",
       "      <td>5.8</td>\n",
       "      <td>dry</td>\n",
       "      <td>{'visibility': 193071, 'cloud_cover': 193071}</td>\n",
       "      <td>clear-night</td>\n",
       "    </tr>\n",
       "    <tr>\n",
       "      <th>13198</th>\n",
       "      <td>2022-07-04T22:00:00+00:00</td>\n",
       "      <td>206640</td>\n",
       "      <td>0.0</td>\n",
       "      <td>1018.9</td>\n",
       "      <td>0.0</td>\n",
       "      <td>17.8</td>\n",
       "      <td>210</td>\n",
       "      <td>2.5</td>\n",
       "      <td>0</td>\n",
       "      <td>8.5</td>\n",
       "      <td>55.0</td>\n",
       "      <td>60000</td>\n",
       "      <td>200.0</td>\n",
       "      <td>5.0</td>\n",
       "      <td>dry</td>\n",
       "      <td>{'visibility': 193071, 'cloud_cover': 193071}</td>\n",
       "      <td>clear-night</td>\n",
       "    </tr>\n",
       "    <tr>\n",
       "      <th>13199</th>\n",
       "      <td>2022-07-04T23:00:00+00:00</td>\n",
       "      <td>206640</td>\n",
       "      <td>0.0</td>\n",
       "      <td>1018.9</td>\n",
       "      <td>0.0</td>\n",
       "      <td>16.6</td>\n",
       "      <td>210</td>\n",
       "      <td>3.2</td>\n",
       "      <td>0</td>\n",
       "      <td>9.0</td>\n",
       "      <td>61.0</td>\n",
       "      <td>60000</td>\n",
       "      <td>210.0</td>\n",
       "      <td>5.4</td>\n",
       "      <td>dry</td>\n",
       "      <td>{'visibility': 193071, 'cloud_cover': 193071}</td>\n",
       "      <td>clear-night</td>\n",
       "    </tr>\n",
       "    <tr>\n",
       "      <th>13200</th>\n",
       "      <td>2022-07-05T00:00:00+00:00</td>\n",
       "      <td>206640</td>\n",
       "      <td>0.0</td>\n",
       "      <td>1018.8</td>\n",
       "      <td>0.0</td>\n",
       "      <td>15.8</td>\n",
       "      <td>200</td>\n",
       "      <td>1.8</td>\n",
       "      <td>12</td>\n",
       "      <td>9.1</td>\n",
       "      <td>64.0</td>\n",
       "      <td>60000</td>\n",
       "      <td>200.0</td>\n",
       "      <td>5.4</td>\n",
       "      <td>dry</td>\n",
       "      <td>{'visibility': 193071, 'cloud_cover': 193071}</td>\n",
       "      <td>clear-night</td>\n",
       "    </tr>\n",
       "  </tbody>\n",
       "</table>\n",
       "<p>13201 rows × 17 columns</p>\n",
       "</div>"
      ],
      "text/plain": [
       "                       timestamp  source_id  precipitation  pressure_msl  \\\n",
       "0      2021-01-01T00:00:00+00:00       6894            0.0        1005.7   \n",
       "1      2021-01-01T01:00:00+00:00       6894            0.0        1005.7   \n",
       "2      2021-01-01T02:00:00+00:00       6894            0.0        1005.6   \n",
       "3      2021-01-01T03:00:00+00:00       6894            0.0        1005.7   \n",
       "4      2021-01-01T04:00:00+00:00       6894            0.0        1005.6   \n",
       "...                          ...        ...            ...           ...   \n",
       "13196  2022-07-04T20:00:00+00:00     206640            0.0        1018.1   \n",
       "13197  2022-07-04T21:00:00+00:00     206640            0.0        1018.4   \n",
       "13198  2022-07-04T22:00:00+00:00     206640            0.0        1018.9   \n",
       "13199  2022-07-04T23:00:00+00:00     206640            0.0        1018.9   \n",
       "13200  2022-07-05T00:00:00+00:00     206640            0.0        1018.8   \n",
       "\n",
       "       sunshine  temperature  wind_direction  wind_speed  cloud_cover  \\\n",
       "0           0.0          2.0             150         6.5          100   \n",
       "1           0.0          2.1             150         6.1          100   \n",
       "2           0.0          1.9             150         7.2          100   \n",
       "3           0.0          1.6             160         7.9          100   \n",
       "4           0.0          1.5             160         5.0          100   \n",
       "...         ...          ...             ...         ...          ...   \n",
       "13196       1.0         20.3             320         8.6           12   \n",
       "13197       0.0         19.2             340         2.9           12   \n",
       "13198       0.0         17.8             210         2.5            0   \n",
       "13199       0.0         16.6             210         3.2            0   \n",
       "13200       0.0         15.8             200         1.8           12   \n",
       "\n",
       "       dew_point  relative_humidity  visibility  wind_gust_direction  \\\n",
       "0           -0.6               83.0       15000                140.0   \n",
       "1           -1.4               78.0       10000                150.0   \n",
       "2           -1.4               79.0       10000                130.0   \n",
       "3           -1.1               82.0       15000                150.0   \n",
       "4           -1.1               83.0       17000                150.0   \n",
       "...          ...                ...         ...                  ...   \n",
       "13196        7.7               44.0       60000                340.0   \n",
       "13197        7.7               47.0       60000                 30.0   \n",
       "13198        8.5               55.0       60000                200.0   \n",
       "13199        9.0               61.0       60000                210.0   \n",
       "13200        9.1               64.0       60000                200.0   \n",
       "\n",
       "       wind_gust_speed condition  \\\n",
       "0                 11.2       dry   \n",
       "1                 13.0       dry   \n",
       "2                 14.0       dry   \n",
       "3                 13.0       dry   \n",
       "4                  8.6       dry   \n",
       "...                ...       ...   \n",
       "13196             12.2       dry   \n",
       "13197              5.8       dry   \n",
       "13198              5.0       dry   \n",
       "13199              5.4       dry   \n",
       "13200              5.4       dry   \n",
       "\n",
       "                                 fallback_source_ids         icon  \n",
       "0      {'visibility': 124281, 'cloud_cover': 124281}       cloudy  \n",
       "1      {'visibility': 124281, 'cloud_cover': 124281}       cloudy  \n",
       "2      {'visibility': 124281, 'cloud_cover': 124281}       cloudy  \n",
       "3      {'visibility': 124281, 'cloud_cover': 124281}       cloudy  \n",
       "4      {'visibility': 124281, 'cloud_cover': 124281}       cloudy  \n",
       "...                                              ...          ...  \n",
       "13196  {'visibility': 193071, 'cloud_cover': 193071}  clear-night  \n",
       "13197  {'visibility': 193071, 'cloud_cover': 193071}  clear-night  \n",
       "13198  {'visibility': 193071, 'cloud_cover': 193071}  clear-night  \n",
       "13199  {'visibility': 193071, 'cloud_cover': 193071}  clear-night  \n",
       "13200  {'visibility': 193071, 'cloud_cover': 193071}  clear-night  \n",
       "\n",
       "[13201 rows x 17 columns]"
      ]
     },
     "execution_count": 244,
     "metadata": {},
     "output_type": "execute_result"
    }
   ],
   "source": [
    "w_data"
   ]
  },
  {
   "cell_type": "code",
   "execution_count": 245,
   "metadata": {},
   "outputs": [],
   "source": [
    "tp_data = w_data.copy()"
   ]
  },
  {
   "cell_type": "code",
   "execution_count": 246,
   "metadata": {},
   "outputs": [],
   "source": [
    "tp_data.index = pd.to_datetime(tp_data['timestamp'])"
   ]
  },
  {
   "cell_type": "code",
   "execution_count": 247,
   "metadata": {},
   "outputs": [
    {
     "data": {
      "text/html": [
       "<div>\n",
       "<style scoped>\n",
       "    .dataframe tbody tr th:only-of-type {\n",
       "        vertical-align: middle;\n",
       "    }\n",
       "\n",
       "    .dataframe tbody tr th {\n",
       "        vertical-align: top;\n",
       "    }\n",
       "\n",
       "    .dataframe thead th {\n",
       "        text-align: right;\n",
       "    }\n",
       "</style>\n",
       "<table border=\"1\" class=\"dataframe\">\n",
       "  <thead>\n",
       "    <tr style=\"text-align: right;\">\n",
       "      <th></th>\n",
       "      <th>timestamp</th>\n",
       "      <th>source_id</th>\n",
       "      <th>precipitation</th>\n",
       "      <th>pressure_msl</th>\n",
       "      <th>sunshine</th>\n",
       "      <th>temperature</th>\n",
       "      <th>wind_direction</th>\n",
       "      <th>wind_speed</th>\n",
       "      <th>cloud_cover</th>\n",
       "      <th>dew_point</th>\n",
       "      <th>relative_humidity</th>\n",
       "      <th>visibility</th>\n",
       "      <th>wind_gust_direction</th>\n",
       "      <th>wind_gust_speed</th>\n",
       "      <th>condition</th>\n",
       "      <th>fallback_source_ids</th>\n",
       "      <th>icon</th>\n",
       "    </tr>\n",
       "    <tr>\n",
       "      <th>timestamp</th>\n",
       "      <th></th>\n",
       "      <th></th>\n",
       "      <th></th>\n",
       "      <th></th>\n",
       "      <th></th>\n",
       "      <th></th>\n",
       "      <th></th>\n",
       "      <th></th>\n",
       "      <th></th>\n",
       "      <th></th>\n",
       "      <th></th>\n",
       "      <th></th>\n",
       "      <th></th>\n",
       "      <th></th>\n",
       "      <th></th>\n",
       "      <th></th>\n",
       "      <th></th>\n",
       "    </tr>\n",
       "  </thead>\n",
       "  <tbody>\n",
       "    <tr>\n",
       "      <th>2021-01-01 00:00:00+00:00</th>\n",
       "      <td>2021-01-01T00:00:00+00:00</td>\n",
       "      <td>6894</td>\n",
       "      <td>0.0</td>\n",
       "      <td>1005.7</td>\n",
       "      <td>0.0</td>\n",
       "      <td>2.0</td>\n",
       "      <td>150</td>\n",
       "      <td>6.5</td>\n",
       "      <td>100</td>\n",
       "      <td>-0.6</td>\n",
       "      <td>83.0</td>\n",
       "      <td>15000</td>\n",
       "      <td>140.0</td>\n",
       "      <td>11.2</td>\n",
       "      <td>dry</td>\n",
       "      <td>{'visibility': 124281, 'cloud_cover': 124281}</td>\n",
       "      <td>cloudy</td>\n",
       "    </tr>\n",
       "    <tr>\n",
       "      <th>2021-01-01 01:00:00+00:00</th>\n",
       "      <td>2021-01-01T01:00:00+00:00</td>\n",
       "      <td>6894</td>\n",
       "      <td>0.0</td>\n",
       "      <td>1005.7</td>\n",
       "      <td>0.0</td>\n",
       "      <td>2.1</td>\n",
       "      <td>150</td>\n",
       "      <td>6.1</td>\n",
       "      <td>100</td>\n",
       "      <td>-1.4</td>\n",
       "      <td>78.0</td>\n",
       "      <td>10000</td>\n",
       "      <td>150.0</td>\n",
       "      <td>13.0</td>\n",
       "      <td>dry</td>\n",
       "      <td>{'visibility': 124281, 'cloud_cover': 124281}</td>\n",
       "      <td>cloudy</td>\n",
       "    </tr>\n",
       "    <tr>\n",
       "      <th>2021-01-01 02:00:00+00:00</th>\n",
       "      <td>2021-01-01T02:00:00+00:00</td>\n",
       "      <td>6894</td>\n",
       "      <td>0.0</td>\n",
       "      <td>1005.6</td>\n",
       "      <td>0.0</td>\n",
       "      <td>1.9</td>\n",
       "      <td>150</td>\n",
       "      <td>7.2</td>\n",
       "      <td>100</td>\n",
       "      <td>-1.4</td>\n",
       "      <td>79.0</td>\n",
       "      <td>10000</td>\n",
       "      <td>130.0</td>\n",
       "      <td>14.0</td>\n",
       "      <td>dry</td>\n",
       "      <td>{'visibility': 124281, 'cloud_cover': 124281}</td>\n",
       "      <td>cloudy</td>\n",
       "    </tr>\n",
       "    <tr>\n",
       "      <th>2021-01-01 03:00:00+00:00</th>\n",
       "      <td>2021-01-01T03:00:00+00:00</td>\n",
       "      <td>6894</td>\n",
       "      <td>0.0</td>\n",
       "      <td>1005.7</td>\n",
       "      <td>0.0</td>\n",
       "      <td>1.6</td>\n",
       "      <td>160</td>\n",
       "      <td>7.9</td>\n",
       "      <td>100</td>\n",
       "      <td>-1.1</td>\n",
       "      <td>82.0</td>\n",
       "      <td>15000</td>\n",
       "      <td>150.0</td>\n",
       "      <td>13.0</td>\n",
       "      <td>dry</td>\n",
       "      <td>{'visibility': 124281, 'cloud_cover': 124281}</td>\n",
       "      <td>cloudy</td>\n",
       "    </tr>\n",
       "    <tr>\n",
       "      <th>2021-01-01 04:00:00+00:00</th>\n",
       "      <td>2021-01-01T04:00:00+00:00</td>\n",
       "      <td>6894</td>\n",
       "      <td>0.0</td>\n",
       "      <td>1005.6</td>\n",
       "      <td>0.0</td>\n",
       "      <td>1.5</td>\n",
       "      <td>160</td>\n",
       "      <td>5.0</td>\n",
       "      <td>100</td>\n",
       "      <td>-1.1</td>\n",
       "      <td>83.0</td>\n",
       "      <td>17000</td>\n",
       "      <td>150.0</td>\n",
       "      <td>8.6</td>\n",
       "      <td>dry</td>\n",
       "      <td>{'visibility': 124281, 'cloud_cover': 124281}</td>\n",
       "      <td>cloudy</td>\n",
       "    </tr>\n",
       "    <tr>\n",
       "      <th>...</th>\n",
       "      <td>...</td>\n",
       "      <td>...</td>\n",
       "      <td>...</td>\n",
       "      <td>...</td>\n",
       "      <td>...</td>\n",
       "      <td>...</td>\n",
       "      <td>...</td>\n",
       "      <td>...</td>\n",
       "      <td>...</td>\n",
       "      <td>...</td>\n",
       "      <td>...</td>\n",
       "      <td>...</td>\n",
       "      <td>...</td>\n",
       "      <td>...</td>\n",
       "      <td>...</td>\n",
       "      <td>...</td>\n",
       "      <td>...</td>\n",
       "    </tr>\n",
       "    <tr>\n",
       "      <th>2022-07-04 20:00:00+00:00</th>\n",
       "      <td>2022-07-04T20:00:00+00:00</td>\n",
       "      <td>206640</td>\n",
       "      <td>0.0</td>\n",
       "      <td>1018.1</td>\n",
       "      <td>1.0</td>\n",
       "      <td>20.3</td>\n",
       "      <td>320</td>\n",
       "      <td>8.6</td>\n",
       "      <td>12</td>\n",
       "      <td>7.7</td>\n",
       "      <td>44.0</td>\n",
       "      <td>60000</td>\n",
       "      <td>340.0</td>\n",
       "      <td>12.2</td>\n",
       "      <td>dry</td>\n",
       "      <td>{'visibility': 193071, 'cloud_cover': 193071}</td>\n",
       "      <td>clear-night</td>\n",
       "    </tr>\n",
       "    <tr>\n",
       "      <th>2022-07-04 21:00:00+00:00</th>\n",
       "      <td>2022-07-04T21:00:00+00:00</td>\n",
       "      <td>206640</td>\n",
       "      <td>0.0</td>\n",
       "      <td>1018.4</td>\n",
       "      <td>0.0</td>\n",
       "      <td>19.2</td>\n",
       "      <td>340</td>\n",
       "      <td>2.9</td>\n",
       "      <td>12</td>\n",
       "      <td>7.7</td>\n",
       "      <td>47.0</td>\n",
       "      <td>60000</td>\n",
       "      <td>30.0</td>\n",
       "      <td>5.8</td>\n",
       "      <td>dry</td>\n",
       "      <td>{'visibility': 193071, 'cloud_cover': 193071}</td>\n",
       "      <td>clear-night</td>\n",
       "    </tr>\n",
       "    <tr>\n",
       "      <th>2022-07-04 22:00:00+00:00</th>\n",
       "      <td>2022-07-04T22:00:00+00:00</td>\n",
       "      <td>206640</td>\n",
       "      <td>0.0</td>\n",
       "      <td>1018.9</td>\n",
       "      <td>0.0</td>\n",
       "      <td>17.8</td>\n",
       "      <td>210</td>\n",
       "      <td>2.5</td>\n",
       "      <td>0</td>\n",
       "      <td>8.5</td>\n",
       "      <td>55.0</td>\n",
       "      <td>60000</td>\n",
       "      <td>200.0</td>\n",
       "      <td>5.0</td>\n",
       "      <td>dry</td>\n",
       "      <td>{'visibility': 193071, 'cloud_cover': 193071}</td>\n",
       "      <td>clear-night</td>\n",
       "    </tr>\n",
       "    <tr>\n",
       "      <th>2022-07-04 23:00:00+00:00</th>\n",
       "      <td>2022-07-04T23:00:00+00:00</td>\n",
       "      <td>206640</td>\n",
       "      <td>0.0</td>\n",
       "      <td>1018.9</td>\n",
       "      <td>0.0</td>\n",
       "      <td>16.6</td>\n",
       "      <td>210</td>\n",
       "      <td>3.2</td>\n",
       "      <td>0</td>\n",
       "      <td>9.0</td>\n",
       "      <td>61.0</td>\n",
       "      <td>60000</td>\n",
       "      <td>210.0</td>\n",
       "      <td>5.4</td>\n",
       "      <td>dry</td>\n",
       "      <td>{'visibility': 193071, 'cloud_cover': 193071}</td>\n",
       "      <td>clear-night</td>\n",
       "    </tr>\n",
       "    <tr>\n",
       "      <th>2022-07-05 00:00:00+00:00</th>\n",
       "      <td>2022-07-05T00:00:00+00:00</td>\n",
       "      <td>206640</td>\n",
       "      <td>0.0</td>\n",
       "      <td>1018.8</td>\n",
       "      <td>0.0</td>\n",
       "      <td>15.8</td>\n",
       "      <td>200</td>\n",
       "      <td>1.8</td>\n",
       "      <td>12</td>\n",
       "      <td>9.1</td>\n",
       "      <td>64.0</td>\n",
       "      <td>60000</td>\n",
       "      <td>200.0</td>\n",
       "      <td>5.4</td>\n",
       "      <td>dry</td>\n",
       "      <td>{'visibility': 193071, 'cloud_cover': 193071}</td>\n",
       "      <td>clear-night</td>\n",
       "    </tr>\n",
       "  </tbody>\n",
       "</table>\n",
       "<p>13201 rows × 17 columns</p>\n",
       "</div>"
      ],
      "text/plain": [
       "                                           timestamp  source_id  \\\n",
       "timestamp                                                         \n",
       "2021-01-01 00:00:00+00:00  2021-01-01T00:00:00+00:00       6894   \n",
       "2021-01-01 01:00:00+00:00  2021-01-01T01:00:00+00:00       6894   \n",
       "2021-01-01 02:00:00+00:00  2021-01-01T02:00:00+00:00       6894   \n",
       "2021-01-01 03:00:00+00:00  2021-01-01T03:00:00+00:00       6894   \n",
       "2021-01-01 04:00:00+00:00  2021-01-01T04:00:00+00:00       6894   \n",
       "...                                              ...        ...   \n",
       "2022-07-04 20:00:00+00:00  2022-07-04T20:00:00+00:00     206640   \n",
       "2022-07-04 21:00:00+00:00  2022-07-04T21:00:00+00:00     206640   \n",
       "2022-07-04 22:00:00+00:00  2022-07-04T22:00:00+00:00     206640   \n",
       "2022-07-04 23:00:00+00:00  2022-07-04T23:00:00+00:00     206640   \n",
       "2022-07-05 00:00:00+00:00  2022-07-05T00:00:00+00:00     206640   \n",
       "\n",
       "                           precipitation  pressure_msl  sunshine  temperature  \\\n",
       "timestamp                                                                       \n",
       "2021-01-01 00:00:00+00:00            0.0        1005.7       0.0          2.0   \n",
       "2021-01-01 01:00:00+00:00            0.0        1005.7       0.0          2.1   \n",
       "2021-01-01 02:00:00+00:00            0.0        1005.6       0.0          1.9   \n",
       "2021-01-01 03:00:00+00:00            0.0        1005.7       0.0          1.6   \n",
       "2021-01-01 04:00:00+00:00            0.0        1005.6       0.0          1.5   \n",
       "...                                  ...           ...       ...          ...   \n",
       "2022-07-04 20:00:00+00:00            0.0        1018.1       1.0         20.3   \n",
       "2022-07-04 21:00:00+00:00            0.0        1018.4       0.0         19.2   \n",
       "2022-07-04 22:00:00+00:00            0.0        1018.9       0.0         17.8   \n",
       "2022-07-04 23:00:00+00:00            0.0        1018.9       0.0         16.6   \n",
       "2022-07-05 00:00:00+00:00            0.0        1018.8       0.0         15.8   \n",
       "\n",
       "                           wind_direction  wind_speed  cloud_cover  dew_point  \\\n",
       "timestamp                                                                       \n",
       "2021-01-01 00:00:00+00:00             150         6.5          100       -0.6   \n",
       "2021-01-01 01:00:00+00:00             150         6.1          100       -1.4   \n",
       "2021-01-01 02:00:00+00:00             150         7.2          100       -1.4   \n",
       "2021-01-01 03:00:00+00:00             160         7.9          100       -1.1   \n",
       "2021-01-01 04:00:00+00:00             160         5.0          100       -1.1   \n",
       "...                                   ...         ...          ...        ...   \n",
       "2022-07-04 20:00:00+00:00             320         8.6           12        7.7   \n",
       "2022-07-04 21:00:00+00:00             340         2.9           12        7.7   \n",
       "2022-07-04 22:00:00+00:00             210         2.5            0        8.5   \n",
       "2022-07-04 23:00:00+00:00             210         3.2            0        9.0   \n",
       "2022-07-05 00:00:00+00:00             200         1.8           12        9.1   \n",
       "\n",
       "                           relative_humidity  visibility  wind_gust_direction  \\\n",
       "timestamp                                                                       \n",
       "2021-01-01 00:00:00+00:00               83.0       15000                140.0   \n",
       "2021-01-01 01:00:00+00:00               78.0       10000                150.0   \n",
       "2021-01-01 02:00:00+00:00               79.0       10000                130.0   \n",
       "2021-01-01 03:00:00+00:00               82.0       15000                150.0   \n",
       "2021-01-01 04:00:00+00:00               83.0       17000                150.0   \n",
       "...                                      ...         ...                  ...   \n",
       "2022-07-04 20:00:00+00:00               44.0       60000                340.0   \n",
       "2022-07-04 21:00:00+00:00               47.0       60000                 30.0   \n",
       "2022-07-04 22:00:00+00:00               55.0       60000                200.0   \n",
       "2022-07-04 23:00:00+00:00               61.0       60000                210.0   \n",
       "2022-07-05 00:00:00+00:00               64.0       60000                200.0   \n",
       "\n",
       "                           wind_gust_speed condition  \\\n",
       "timestamp                                              \n",
       "2021-01-01 00:00:00+00:00             11.2       dry   \n",
       "2021-01-01 01:00:00+00:00             13.0       dry   \n",
       "2021-01-01 02:00:00+00:00             14.0       dry   \n",
       "2021-01-01 03:00:00+00:00             13.0       dry   \n",
       "2021-01-01 04:00:00+00:00              8.6       dry   \n",
       "...                                    ...       ...   \n",
       "2022-07-04 20:00:00+00:00             12.2       dry   \n",
       "2022-07-04 21:00:00+00:00              5.8       dry   \n",
       "2022-07-04 22:00:00+00:00              5.0       dry   \n",
       "2022-07-04 23:00:00+00:00              5.4       dry   \n",
       "2022-07-05 00:00:00+00:00              5.4       dry   \n",
       "\n",
       "                                                     fallback_source_ids  \\\n",
       "timestamp                                                                  \n",
       "2021-01-01 00:00:00+00:00  {'visibility': 124281, 'cloud_cover': 124281}   \n",
       "2021-01-01 01:00:00+00:00  {'visibility': 124281, 'cloud_cover': 124281}   \n",
       "2021-01-01 02:00:00+00:00  {'visibility': 124281, 'cloud_cover': 124281}   \n",
       "2021-01-01 03:00:00+00:00  {'visibility': 124281, 'cloud_cover': 124281}   \n",
       "2021-01-01 04:00:00+00:00  {'visibility': 124281, 'cloud_cover': 124281}   \n",
       "...                                                                  ...   \n",
       "2022-07-04 20:00:00+00:00  {'visibility': 193071, 'cloud_cover': 193071}   \n",
       "2022-07-04 21:00:00+00:00  {'visibility': 193071, 'cloud_cover': 193071}   \n",
       "2022-07-04 22:00:00+00:00  {'visibility': 193071, 'cloud_cover': 193071}   \n",
       "2022-07-04 23:00:00+00:00  {'visibility': 193071, 'cloud_cover': 193071}   \n",
       "2022-07-05 00:00:00+00:00  {'visibility': 193071, 'cloud_cover': 193071}   \n",
       "\n",
       "                                  icon  \n",
       "timestamp                               \n",
       "2021-01-01 00:00:00+00:00       cloudy  \n",
       "2021-01-01 01:00:00+00:00       cloudy  \n",
       "2021-01-01 02:00:00+00:00       cloudy  \n",
       "2021-01-01 03:00:00+00:00       cloudy  \n",
       "2021-01-01 04:00:00+00:00       cloudy  \n",
       "...                                ...  \n",
       "2022-07-04 20:00:00+00:00  clear-night  \n",
       "2022-07-04 21:00:00+00:00  clear-night  \n",
       "2022-07-04 22:00:00+00:00  clear-night  \n",
       "2022-07-04 23:00:00+00:00  clear-night  \n",
       "2022-07-05 00:00:00+00:00  clear-night  \n",
       "\n",
       "[13201 rows x 17 columns]"
      ]
     },
     "execution_count": 247,
     "metadata": {},
     "output_type": "execute_result"
    }
   ],
   "source": [
    "tp_data"
   ]
  },
  {
   "cell_type": "code",
   "execution_count": 248,
   "metadata": {},
   "outputs": [],
   "source": [
    "df = tp_data.resample(\"1d\").mean()"
   ]
  },
  {
   "cell_type": "code",
   "execution_count": 257,
   "metadata": {},
   "outputs": [],
   "source": [
    "df_temp = df.reset_index()"
   ]
  },
  {
   "cell_type": "code",
   "execution_count": 258,
   "metadata": {},
   "outputs": [
    {
     "data": {
      "image/png": "[encoded data removed]",
      "text/plain": [
       "<Figure size 432x288 with 1 Axes>"
      ]
     },
     "metadata": {
      "needs_background": "light"
     },
     "output_type": "display_data"
    }
   ],
   "source": [
    "ax = plt.gca()\n",
    "\n",
    "df_temp.plot(kind='line',x='timestamp',y='temperature',ax=ax)\n",
    "df_temp.plot(kind='line',x='timestamp',y='pressure_msl', color='red', ax=ax)\n",
    "\n",
    "plt.show()"
   ]
  },
  {
   "cell_type": "code",
   "execution_count": 261,
   "metadata": {},
   "outputs": [
    {
     "data": {
      "text/plain": [
       "array([<AxesSubplot:xlabel='timestamp'>, <AxesSubplot:xlabel='timestamp'>,\n",
       "       <AxesSubplot:xlabel='timestamp'>, <AxesSubplot:xlabel='timestamp'>,\n",
       "       <AxesSubplot:xlabel='timestamp'>, <AxesSubplot:xlabel='timestamp'>,\n",
       "       <AxesSubplot:xlabel='timestamp'>, <AxesSubplot:xlabel='timestamp'>,\n",
       "       <AxesSubplot:xlabel='timestamp'>, <AxesSubplot:xlabel='timestamp'>,\n",
       "       <AxesSubplot:xlabel='timestamp'>, <AxesSubplot:xlabel='timestamp'>,\n",
       "       <AxesSubplot:xlabel='timestamp'>], dtype=object)"
      ]
     },
     "execution_count": 261,
     "metadata": {},
     "output_type": "execute_result"
    },
    {
     "data": {
      "image/png": "[encoded data removed]",
      "text/plain": [
       "<Figure size 432x288 with 13 Axes>"
      ]
     },
     "metadata": {
      "needs_background": "light"
     },
     "output_type": "display_data"
    }
   ],
   "source": [
    "df.plot(subplots = True, )"
   ]
  },
  {
   "cell_type": "code",
   "execution_count": null,
   "metadata": {},
   "outputs": [],
   "source": []
  }
 ],
 "metadata": {
  "kernelspec": {
   "display_name": "arena_venv",
   "language": "python",
   "name": "arena_venv"
  },
  "language_info": {
   "codemirror_mode": {
    "name": "ipython",
    "version": 3
   },
   "file_extension": ".py",
   "mimetype": "text/x-python",
   "name": "python",
   "nbconvert_exporter": "python",
   "pygments_lexer": "ipython3",
   "version": "3.7.4"
  }
 },
 "nbformat": 4,
 "nbformat_minor": 4
}
