{
  "cells": [
    {
      "cell_type": "code",
      "execution_count": 20,
      "metadata": {
        "id": "AC0mtPQVxXAl"
      },
      "outputs": [],
      "source": [
        "%matplotlib inline\n",
        "import matplotlib.pyplot as plt\n",
        "# import seaborn as sns; sns.set ()\n",
        "import numpy as np\n",
        "import pandas as pd\n",
        "from sklearn.linear_model import LinearRegression\n",
        "from sklearn import svm\n",
        "from sklearn.metrics import mean_squared_error, accuracy_score\n"
      ]
    },
    {
      "cell_type": "markdown",
      "metadata": {
        "id": "6bT40q-uzuVu"
      },
      "source": [
        "Linear Regression"
      ]
    },
    {
      "cell_type": "markdown",
      "metadata": {
        "id": "eheoLG4SEWpN"
      },
      "source": [
        ""
      ]
    },
    {
      "cell_type": "code",
      "execution_count": 2,
      "metadata": {
        "id": "AY5n8VKHDfLa"
      },
      "outputs": [],
      "source": [
        "param = pd.read_csv('./final_data/final_data.csv')"
      ]
    },
    {
      "cell_type": "code",
      "execution_count": null,
      "metadata": {
        "id": "ufwv5-JBEX4Y"
      },
      "outputs": [],
      "source": [
        "param['station'].unique()"
      ]
    },
    {
      "cell_type": "code",
      "execution_count": 4,
      "metadata": {
        "id": "icQqoPTfi8tG"
      },
      "outputs": [],
      "source": [
        "param.drop(param.loc[param['station']=='mc077'].index, inplace=True)"
      ]
    },
    {
      "cell_type": "code",
      "execution_count": null,
      "metadata": {
        "id": "uQI5JhYskL84"
      },
      "outputs": [],
      "source": [
        "param['station'].unique()"
      ]
    },
    {
      "cell_type": "code",
      "execution_count": null,
      "metadata": {
        "id": "3VYobYHAE9s-"
      },
      "outputs": [],
      "source": [
        "param[param['station']=='mc143']"
      ]
    },
    {
      "cell_type": "code",
      "execution_count": null,
      "metadata": {
        "id": "pmfLy1xZHlwR"
      },
      "outputs": [],
      "source": [
        "param[param['station']=='mc042']"
      ]
    },
    {
      "cell_type": "code",
      "execution_count": null,
      "metadata": {
        "id": "tVSqC_yPHl3x"
      },
      "outputs": [],
      "source": [
        "param[param['station']=='mc143']"
      ]
    },
    {
      "cell_type": "code",
      "execution_count": 9,
      "metadata": {
        "id": "A7r8UohpJKPt"
      },
      "outputs": [],
      "source": [
        "df = param"
      ]
    },
    {
      "cell_type": "code",
      "execution_count": 10,
      "metadata": {
        "id": "ZmmxiDoLUYI7"
      },
      "outputs": [],
      "source": [
        "station_name = df['station'].unique()"
      ]
    },
    {
      "cell_type": "code",
      "execution_count": null,
      "metadata": {
        "id": "nBJ5CPv-Qs_F"
      },
      "outputs": [],
      "source": [
        "y_hat_all = []\n",
        "for s1 in station_name:\n",
        "    for s2 in station_name:\n",
        "        for s3 in station_name:\n",
        "            if s1!=s2 and s2!=s3 and s3!=s1:\n",
        "                #print(s1)\n",
        "                #print(s2)\n",
        "                #print(s3)\n",
        "                st1 = df[df['station']==s1].reset_index()\n",
        "                st1 = st1.loc[:, ['precipitation', 'pressure_msl', 'sunshine', 'temperature', 'relative_humidity', 'pm10']]\n",
        "                st1.columns = ['precipitation1', 'pressure_msl1', 'sunshine1', 'temperature1', 'relative_humidity1', 'pm101']\n",
        "                st2 = df[df['station']==s2].reset_index()\n",
        "                st2 = st2.loc[:, ['precipitation', 'pressure_msl', 'sunshine', 'temperature', 'relative_humidity', 'pm10']]\n",
        "                st2.columns = ['precipitation2', 'pressure_msl2', 'sunshine2', 'temperature2', 'relative_humidity2', 'pm102']\n",
        "                st3 = df[df['station']==s3].reset_index()\n",
        "                st3 = st3.loc[:, ['precipitation', 'pressure_msl', 'sunshine', 'temperature', 'relative_humidity', 'pm10']]\n",
        "                st3.columns = ['precipitation3', 'pressure_msl3', 'sunshine3', 'temperature3', 'relative_humidity3', 'pm103']\n",
        "                st = pd.concat([st1, st2, st3], axis=1)\n",
        "                #print(st.isna().sum())\n",
        "                st.dropna(inplace=True)\n",
        "                #print(st.isna().sum())\n",
        "                x = st[['precipitation1', 'pressure_msl1', 'sunshine1', 'temperature1',\n",
        "               'relative_humidity1', 'pm101', 'precipitation2', 'pressure_msl2',\n",
        "               'sunshine2', 'temperature2', 'relative_humidity2', 'pm102']]\n",
        "                y = df[df['station']==s3]['pm10']\n",
        "                y = st[['pm103']]\n",
        "                x_train = x[:int(x.shape[0]*0.9)]\n",
        "                #print(x_train.shape)\n",
        "                y_train = y[:int(y.shape[0]*0.9)]\n",
        "                x_test = x[int(x.shape[0]*0.9):]\n",
        "                y_test = y[int(y.shape[0]*0.9):]\n",
        "                clf = LinearRegression().fit(x_train, y_train)\n",
        "                y_hat = clf.predict(x_test)\n",
        "                mse = mean_squared_error(y_hat, y_test, squared = False)\n",
        "                accuracy = accuracy_score(list(y_test['pm103'].values), [float(round(x)) for [x] in y_hat])\n",
        "                y_hat_all += [{'s3_val' : s3, 'y_hat_val' : y_hat, 'mse' : mse, 'accuracy': accuracy}]\n",
        "                print(y_hat_all)\n",
        "                # print(mean_squared_error(clf.predict(x_test) ,y_test, squared = False))\n",
        "                # print(y_test)\n"
      ]
    },
    {
      "cell_type": "code",
      "execution_count": 12,
      "metadata": {
        "id": "5ae8LRLf90qL"
      },
      "outputs": [],
      "source": [
        "y_hat = [float(round(x, 2)) for [x] in y_hat]"
      ]
    },
    {
      "cell_type": "code",
      "execution_count": 13,
      "metadata": {
        "id": "u7770mC92_Dc"
      },
      "outputs": [],
      "source": [
        "y_hat_all2 = y_hat_all"
      ]
    },
    {
      "cell_type": "code",
      "execution_count": 14,
      "metadata": {
        "id": "AMQCxroY2_HR"
      },
      "outputs": [],
      "source": [
        "for i in y_hat_all2:\n",
        "    i['y_hat_val'] = [list(i) for i in list(i['y_hat_val'])]"
      ]
    },
    {
      "cell_type": "code",
      "execution_count": null,
      "metadata": {
        "id": "y1X7DM963Vyv"
      },
      "outputs": [],
      "source": [
        "y_hat_all2"
      ]
    },
    {
      "cell_type": "code",
      "execution_count": 16,
      "metadata": {
        "id": "wLdyeJTkzrbd"
      },
      "outputs": [],
      "source": [
        "import json"
      ]
    },
    {
      "cell_type": "code",
      "execution_count": 17,
      "metadata": {
        "id": "ONeh5OSZzwD7"
      },
      "outputs": [],
      "source": [
        "with open('y_hat_all.json', 'w') as fl:\n",
        "    json.dump(y_hat_all2, fl)"
      ]
    },
    {
      "cell_type": "code",
      "execution_count": null,
      "metadata": {
        "id": "FlRcyKAI27e-"
      },
      "outputs": [],
      "source": [
        "\n",
        "y_hat_all = []\n",
        "for s1 in station_name:\n",
        "    for s2 in station_name:\n",
        "        for s3 in station_name:\n",
        "            if s1!=s2 and s2!=s3 and s3!=s1:\n",
        "                #print(s1)\n",
        "                #print(s2)\n",
        "                #print(s3)\n",
        "                st1 = df[df['station']==s1].reset_index()\n",
        "                st1 = st1.loc[:, ['precipitation', 'pressure_msl', 'sunshine', 'temperature', 'relative_humidity', 'pm10']]\n",
        "                st1.columns = ['precipitation1', 'pressure_msl1', 'sunshine1', 'temperature1', 'relative_humidity1', 'pm101']\n",
        "                st2 = df[df['station']==s2].reset_index()\n",
        "                st2 = st2.loc[:, ['precipitation', 'pressure_msl', 'sunshine', 'temperature', 'relative_humidity', 'pm10']]\n",
        "                st2.columns = ['precipitation2', 'pressure_msl2', 'sunshine2', 'temperature2', 'relative_humidity2', 'pm102']\n",
        "                st3 = df[df['station']==s3].reset_index()\n",
        "                st3 = st3.loc[:, ['precipitation', 'pressure_msl', 'sunshine', 'temperature', 'relative_humidity', 'pm10']]\n",
        "                st3.columns = ['precipitation3', 'pressure_msl3', 'sunshine3', 'temperature3', 'relative_humidity3', 'pm103']\n",
        "                st = pd.concat([st1, st2, st3], axis=1)\n",
        "                #print(st.isna().sum())\n",
        "                st.dropna(inplace=True)\n",
        "                #print(st.isna().sum())\n",
        "                x = st[['precipitation1', 'pressure_msl1', 'sunshine1', 'temperature1',\n",
        "               'relative_humidity1', 'pm101', 'precipitation2', 'pressure_msl2',\n",
        "               'sunshine2', 'temperature2', 'relative_humidity2', 'pm102']]\n",
        "                y = df[df['station']==s3]['pm10']\n",
        "                y = st[['pm103']]\n",
        "                x_train = x[:int(x.shape[0]*0.9)]\n",
        "                #print(x_train.shape)\n",
        "                y_train = y[:int(y.shape[0]*0.9)]\n",
        "                x_test = x[int(x.shape[0]*0.9):]\n",
        "                y_test = y[int(y.shape[0]*0.9):]\n",
        "                clf = svm.SVR().fit(x_train, y_train)\n",
        "                y_hat = clf.predict(x_test)\n",
        "                mse = mean_squared_error(y_hat, y_test, squared = False)\n",
        "                #accuracy = accuracy_score(list(y_test['pm103'].values), [float(round(x)) for [x] in y_hat])\n",
        "                y_hat_all += [{'s3_val' : s3, 'y_hat_val' : y_hat, 'mse' : mse, 'accuracy': accuracy}]\n",
        "                print(y_hat_all)\n",
        "                #print(mean_squared_error(clf.predict(x_test) ,y_test, squared = False))\n",
        "                #print(y_test)\n"
      ]
    },
    {
      "cell_type": "code",
      "source": [
        ""
      ],
      "metadata": {
        "id": "1jn8Osja1NTy"
      },
      "execution_count": null,
      "outputs": []
    }
  ],
  "metadata": {
    "colab": {
      "collapsed_sections": [],
      "name": "Arena_2036_Air_Quality.ipynb",
      "provenance": []
    },
    "kernelspec": {
      "display_name": "arena_venv",
      "language": "python",
      "name": "arena_venv"
    },
    "language_info": {
      "codemirror_mode": {
        "name": "ipython",
        "version": 3
      },
      "file_extension": ".py",
      "mimetype": "text/x-python",
      "name": "python",
      "nbconvert_exporter": "python",
      "pygments_lexer": "ipython3",
      "version": "3.7.4"
    }
  },
  "nbformat": 4,
  "nbformat_minor": 0
}