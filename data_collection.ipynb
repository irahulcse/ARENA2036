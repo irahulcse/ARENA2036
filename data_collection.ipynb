{
 "cells": [
  {
   "cell_type": "code",
   "execution_count": 2,
   "metadata": {},
   "outputs": [
    {
     "name": "stdout",
     "output_type": "stream",
     "text": [
      "Collecting requests\n",
      "  Downloading requests-2.28.1-py3-none-any.whl (62 kB)\n",
      "\u001b[2K     \u001b[38;2;114;156;31m━━━━━━━━━━━━━━━━━━━━━━━━━━━━━━━━━━━━━━━━\u001b[0m \u001b[32m62.8/62.8 kB\u001b[0m \u001b[31m1.9 MB/s\u001b[0m eta \u001b[36m0:00:00\u001b[0m\n",
      "\u001b[?25hCollecting idna<4,>=2.5\n",
      "  Using cached idna-3.3-py3-none-any.whl (61 kB)\n",
      "Collecting certifi>=2017.4.17\n",
      "  Downloading certifi-2022.6.15-py3-none-any.whl (160 kB)\n",
      "\u001b[2K     \u001b[38;2;114;156;31m━━━━━━━━━━━━━━━━━━━━━━━━━━━━━━━━━━━━━━━\u001b[0m \u001b[32m160.2/160.2 kB\u001b[0m \u001b[31m2.9 MB/s\u001b[0m eta \u001b[36m0:00:00\u001b[0m MB/s\u001b[0m eta \u001b[36m0:00:01\u001b[0m\n",
      "\u001b[?25hCollecting charset-normalizer<3,>=2\n",
      "  Downloading charset_normalizer-2.1.0-py3-none-any.whl (39 kB)\n",
      "Collecting urllib3<1.27,>=1.21.1\n",
      "  Downloading urllib3-1.26.9-py2.py3-none-any.whl (138 kB)\n",
      "\u001b[2K     \u001b[38;2;114;156;31m━━━━━━━━━━━━━━━━━━━━━━━━━━━━━━━━━━━━━━━\u001b[0m \u001b[32m139.0/139.0 kB\u001b[0m \u001b[31m5.0 MB/s\u001b[0m eta \u001b[36m0:00:00\u001b[0m\n",
      "\u001b[?25hInstalling collected packages: urllib3, idna, charset-normalizer, certifi, requests\n",
      "Successfully installed certifi-2022.6.15 charset-normalizer-2.1.0 idna-3.3 requests-2.28.1 urllib3-1.26.9\n"
     ]
    }
   ],
   "source": [
    "!pip install requests"
   ]
  },
  {
   "cell_type": "code",
   "execution_count": 1,
   "metadata": {},
   "outputs": [],
   "source": [
    "import requests\n",
    "import os\n",
    "import json"
   ]
  },
  {
   "cell_type": "code",
   "execution_count": 2,
   "metadata": {},
   "outputs": [],
   "source": [
    "sensor_station = \"https://luftdaten.berlin.de/api/stations?active=true&include_hidden=true\""
   ]
  },
  {
   "cell_type": "code",
   "execution_count": 3,
   "metadata": {},
   "outputs": [],
   "source": [
    "data = requests.get(sensor_station)"
   ]
  },
  {
   "cell_type": "code",
   "execution_count": 17,
   "metadata": {},
   "outputs": [],
   "source": [
    "\n",
    "with open('sensor_station.json', 'w') as json_file:\n",
    "    json.dump(data.json(), json_file)\n"
   ]
  },
  {
   "cell_type": "code",
   "execution_count": 18,
   "metadata": {},
   "outputs": [],
   "source": [
    "json_data = data.json()"
   ]
  },
  {
   "cell_type": "code",
   "execution_count": 50,
   "metadata": {},
   "outputs": [
    {
     "name": "stdout",
     "output_type": "stream",
     "text": [
      "1 2\n",
      "2 3\n",
      "3 4\n",
      "4 5\n",
      "5 6\n",
      "6 7\n",
      "7 8\n",
      "8 9\n",
      "9 10\n",
      "10 11\n",
      "11 12\n"
     ]
    }
   ],
   "source": [
    "# for code in json_data:\n",
    "# main_data = []\n",
    "for i in range(1, 12):\n",
    "    print(i, i+1)\n",
    "    station_code = 'mc042'\n",
    "    data_api = f\"https://luftdaten.berlin.de/api/stations/{station_code}/data?period=24h&timespan=custom&start=01.{i}.2022%2000%3A00&end=01.{i+1}.2022%2000%3A00\"\n",
    "    dt = requests.get(data_api)\n",
    "    main_data += dt.json()\n",
    "#     path = os.path.join(os.getcwd(), f'data_station_wise/01-{i}-19-01-{i+1}-19') \n",
    "#     if not os.path.isdir(path): \n",
    "#         os.makedirs(path)\n",
    "#     with open(f'data_station_wise/01-{i}-19-01-{i+1}-19/{station_code}.json', 'w') as json_file:\n",
    "#         json.dump(dt.json(), json_file)\n"
   ]
  },
  {
   "cell_type": "code",
   "execution_count": 47,
   "metadata": {},
   "outputs": [],
   "source": [
    "data_api = f\"https://luftdaten.berlin.de/api/stations/{station_code}/data?period=24h&timespan=custom&start=01.12.2021%2000%3A00&end=01.01.2022%2000%3A00\"\n",
    "dt = requests.get(data_api)"
   ]
  },
  {
   "cell_type": "code",
   "execution_count": 51,
   "metadata": {},
   "outputs": [
    {
     "data": {
      "text/plain": [
       "4560"
      ]
     },
     "execution_count": 51,
     "metadata": {},
     "output_type": "execute_result"
    }
   ],
   "source": [
    "len(main_data)"
   ]
  },
  {
   "cell_type": "code",
   "execution_count": 48,
   "metadata": {},
   "outputs": [],
   "source": [
    "main_data += dt.json()"
   ]
  },
  {
   "cell_type": "code",
   "execution_count": 52,
   "metadata": {},
   "outputs": [],
   "source": [
    "with open(f'mc042.json', 'w') as json_file:\n",
    "    json.dump(main_data, json_file)\n"
   ]
  },
  {
   "cell_type": "code",
   "execution_count": 6,
   "metadata": {},
   "outputs": [],
   "source": [
    "station_code = 'MC221'"
   ]
  },
  {
   "cell_type": "code",
   "execution_count": 11,
   "metadata": {},
   "outputs": [],
   "source": [
    "data_api = f\"https://luftdaten.berlin.de/api/stations/MC221/data?period=24h&timespan=custom&start=01.01.2022%2000%3A00&end=01.02.2022%2000%3A00\"\n",
    "dt = requests.get(data_api)\n"
   ]
  },
  {
   "cell_type": "code",
   "execution_count": 74,
   "metadata": {},
   "outputs": [],
   "source": [
    "for code in json_data:\n",
    "    station_code = code['code']\n",
    "    data_api = f\"https://luftdaten.berlin.de/api/stations/{station_code}/data?period=1h&timespan=custom&start=01.12.2019%2000%3A00&end=01.01.2020%2000%3A00\"\n",
    "    dt = requests.get(data_api)\n",
    "    path = os.path.join(os.getcwd(), f'data_station_wise/01-12-19-01-01-20') \n",
    "    if not os.path.isdir(path): \n",
    "        os.makedirs(path)\n",
    "    with open(f'data_station_wise/01-12-19-01-01-20/{station_code}.json', 'w') as json_file:\n",
    "        json.dump(dt.json(), json_file)\n"
   ]
  },
  {
   "cell_type": "code",
   "execution_count": null,
   "metadata": {},
   "outputs": [],
   "source": []
  },
  {
   "cell_type": "code",
   "execution_count": 25,
   "metadata": {},
   "outputs": [],
   "source": [
    "station_code=json_data[0]['code']"
   ]
  },
  {
   "cell_type": "code",
   "execution_count": 26,
   "metadata": {},
   "outputs": [],
   "source": [
    "data_api = f\"https://luftdaten.berlin.de/api/stations/{station_code}/data?period=1h&timespan=custom&start=01.01.2019%2000%3A00&end=01.02.2019%2000%3A00\"\n"
   ]
  },
  {
   "cell_type": "code",
   "execution_count": 27,
   "metadata": {},
   "outputs": [],
   "source": [
    "dt = requests.get(data_api)"
   ]
  },
  {
   "cell_type": "code",
   "execution_count": 82,
   "metadata": {},
   "outputs": [
    {
     "data": {
      "text/plain": [
       "['01-9-19-01-10-19',\n",
       " '.DS_Store',\n",
       " '01-6-19-01-7-19',\n",
       " '01-10-19-01-11-19',\n",
       " '01-11-19-01-12-19',\n",
       " '01-1-19-01-2-19',\n",
       " '01-8-19-01-9-19',\n",
       " '01-4-19-01-5-19',\n",
       " '01-2-19-01-3-19',\n",
       " '.ipynb_checkpoints',\n",
       " '01-3-19-01-4-19',\n",
       " '01-12-19-01-01-20',\n",
       " '01-5-19-01-6-19',\n",
       " '01-7-19-01-8-19']"
      ]
     },
     "execution_count": 82,
     "metadata": {},
     "output_type": "execute_result"
    }
   ],
   "source": [
    "os.listdir('data_station_wise/')"
   ]
  },
  {
   "cell_type": "code",
   "execution_count": 92,
   "metadata": {},
   "outputs": [],
   "source": [
    "inside_files = ['MC221'] #, 'mc143', 'mc042']\n",
    "for file_n in inside_files:\n",
    "    data_main = []\n",
    "    for folder in os.listdir(f'data_station_wise/'):\n",
    "        if folder != '.DS_Store' and folder != '.ipynb_checkpoints':\n",
    "            file_dt = f'./data_station_wise/{folder}/{file_n}.json'\n",
    "            f = open(file_dt)\n",
    "            data = json.load(f)\n",
    "            data_main += data\n",
    "    with open(f'{folder}_{file_n}.json', 'w') as json_file:\n",
    "        json.dump(data_main, json_file)\n"
   ]
  },
  {
   "cell_type": "code",
   "execution_count": 93,
   "metadata": {},
   "outputs": [
    {
     "data": {
      "text/plain": [
       "[]"
      ]
     },
     "execution_count": 93,
     "metadata": {},
     "output_type": "execute_result"
    }
   ],
   "source": [
    "data_main"
   ]
  },
  {
   "cell_type": "code",
   "execution_count": 94,
   "metadata": {},
   "outputs": [],
   "source": [
    "data_main = []\n",
    "for folder in os.listdir(f'data_station_wise/'):\n",
    "    if folder != '.DS_Store' and folder != '.ipynb_checkpoints':\n",
    "        file_dt = f'./data_station_wise/{folder}/{file_n}.json'\n",
    "        f = open(file_dt)\n",
    "        data = json.load(f)\n",
    "        data_main += data"
   ]
  },
  {
   "cell_type": "code",
   "execution_count": 95,
   "metadata": {},
   "outputs": [
    {
     "data": {
      "text/plain": [
       "[]"
      ]
     },
     "execution_count": 95,
     "metadata": {},
     "output_type": "execute_result"
    }
   ],
   "source": [
    "data_main"
   ]
  },
  {
   "cell_type": "code",
   "execution_count": 97,
   "metadata": {},
   "outputs": [],
   "source": [
    "file_dt = f'./data_station_wise/{folder}/{file_n}.json'\n",
    "f = open(file_dt)\n",
    "data = json.load(f)"
   ]
  },
  {
   "cell_type": "code",
   "execution_count": 98,
   "metadata": {},
   "outputs": [
    {
     "data": {
      "text/plain": [
       "[]"
      ]
     },
     "execution_count": 98,
     "metadata": {},
     "output_type": "execute_result"
    }
   ],
   "source": [
    "data"
   ]
  },
  {
   "cell_type": "markdown",
   "metadata": {},
   "source": [
    "## Fetching the data from 01-06-2022 to 01-07-2022"
   ]
  },
  {
   "cell_type": "code",
   "execution_count": 67,
   "metadata": {},
   "outputs": [],
   "source": [
    "data_main = []"
   ]
  },
  {
   "cell_type": "code",
   "execution_count": 72,
   "metadata": {},
   "outputs": [
    {
     "name": "stdout",
     "output_type": "stream",
     "text": [
      "1 2\n",
      "2 3\n",
      "3 4\n",
      "4 5\n",
      "5 6\n",
      "6 7\n"
     ]
    }
   ],
   "source": [
    "for i in range(1, 7):\n",
    "    print(i, i+1)\n",
    "    station_code = 'mc042'\n",
    "    data_api = f\"https://luftdaten.berlin.de/api/stations/{station_code}/data?period=1h&timespan=custom&start=01.{i}.2022%2000%3A00&end=01.{i+1}.2022%2000%3A00\"\n",
    "    dt = requests.get(data_api)\n",
    "    data_main += dt.json()"
   ]
  },
  {
   "cell_type": "code",
   "execution_count": 69,
   "metadata": {},
   "outputs": [],
   "source": [
    "data_api = f\"https://luftdaten.berlin.de/api/stations/{station_code}/data?period=1h&timespan=custom&start=01.12.2021%2000%3A00&end=01.1.2022%2000%3A00\"\n",
    "dt = requests.get(data_api)\n"
   ]
  },
  {
   "cell_type": "code",
   "execution_count": 71,
   "metadata": {},
   "outputs": [],
   "source": [
    "data_main += dt.json()"
   ]
  },
  {
   "cell_type": "code",
   "execution_count": 73,
   "metadata": {},
   "outputs": [],
   "source": [
    "with open(f'mc042_01-01-21-01-07-22.json', 'w') as json_file:\n",
    "    json.dump(data_main, json_file)"
   ]
  },
  {
   "cell_type": "code",
   "execution_count": 19,
   "metadata": {},
   "outputs": [],
   "source": [
    "data_api = f\"https://luftdaten.berlin.de/api/stations/{station_code}/data?period=1h&timespan=custom&start=01.11.2021%2000%3A00&end=01.12.2021%2000%3A00\"\n",
    "dt = requests.get(data_api)\n",
    "data_main += dt.json()"
   ]
  },
  {
   "cell_type": "code",
   "execution_count": null,
   "metadata": {},
   "outputs": [],
   "source": [
    "path = os.path.join(os.getcwd(), f'01-{i}-22-01-{i+1}-22') \n",
    "if not os.path.isdir(path): \n",
    "    os.makedirs(path)\n",
    "with open(f'01-01-22-01-01-22/{station_code}.json', 'w') as json_file:\n",
    "    json.dump(dt.json(), json_file)\n"
   ]
  },
  {
   "cell_type": "code",
   "execution_count": 4,
   "metadata": {},
   "outputs": [],
   "source": [
    "station_code = 'MC221'\n",
    "data_api = f\"https://luftdaten.berlin.de/api/stations/{station_code}/data?period=1h&timespan=custom&start=01.06.2021%2000%3A00&end=01.07.2021%2000%3A00\"\n",
    "dt = requests.get(data_api)"
   ]
  },
  {
   "cell_type": "code",
   "execution_count": 7,
   "metadata": {},
   "outputs": [],
   "source": [
    "data_main = dt.json()"
   ]
  },
  {
   "cell_type": "code",
   "execution_count": 38,
   "metadata": {},
   "outputs": [
    {
     "data": {
      "text/plain": [
       "({'datetime': '2021-07-01T00:00:00+02:00',\n",
       "  'station': 'MC221',\n",
       "  'core': 'pm10',\n",
       "  'component': 'pm10_1h',\n",
       "  'period': '1h',\n",
       "  'value': 19},\n",
       " {'datetime': '2021-11-01T01:00:00+01:00',\n",
       "  'station': 'MC221',\n",
       "  'core': 'pm10',\n",
       "  'component': 'pm10_1h',\n",
       "  'period': '1h',\n",
       "  'value': 35})"
      ]
     },
     "execution_count": 38,
     "metadata": {},
     "output_type": "execute_result"
    }
   ],
   "source": [
    "data_main[0], data_main[-10]"
   ]
  },
  {
   "cell_type": "code",
   "execution_count": 13,
   "metadata": {},
   "outputs": [
    {
     "data": {
      "text/plain": [
       "26230"
      ]
     },
     "execution_count": 13,
     "metadata": {},
     "output_type": "execute_result"
    }
   ],
   "source": [
    "len(data_main)"
   ]
  },
  {
   "cell_type": "markdown",
   "metadata": {},
   "source": [
    "## Fetching data for Weather from Bright Sky API"
   ]
  },
  {
   "cell_type": "code",
   "execution_count": 72,
   "metadata": {},
   "outputs": [],
   "source": [
    "from datetime import timedelta, date\n"
   ]
  },
  {
   "cell_type": "code",
   "execution_count": 114,
   "metadata": {},
   "outputs": [],
   "source": [
    "# 2021-07-16\n",
    "# 2022-04-13\n",
    "\n",
    "start_date = date(2021, 1, 1)"
   ]
  },
  {
   "cell_type": "code",
   "execution_count": 115,
   "metadata": {},
   "outputs": [
    {
     "name": "stdout",
     "output_type": "stream",
     "text": [
      "2021-01-01\n"
     ]
    }
   ],
   "source": [
    "print(start_date)"
   ]
  },
  {
   "cell_type": "code",
   "execution_count": 116,
   "metadata": {},
   "outputs": [],
   "source": [
    "weather_data = []"
   ]
  },
  {
   "cell_type": "code",
   "execution_count": 118,
   "metadata": {},
   "outputs": [],
   "source": [
    "fl = open('./data/weather_data/mc143_weather.json')"
   ]
  },
  {
   "cell_type": "code",
   "execution_count": 119,
   "metadata": {},
   "outputs": [],
   "source": [
    "w_data = json.load(fl)"
   ]
  },
  {
   "cell_type": "code",
   "execution_count": 120,
   "metadata": {},
   "outputs": [],
   "source": [
    "w_data += weather_data"
   ]
  },
  {
   "cell_type": "code",
   "execution_count": 121,
   "metadata": {},
   "outputs": [],
   "source": [
    "with open(f'./data/weather_data/mc143_weather.json', 'w') as json_file:\n",
    "    json.dump(w_data, json_file)"
   ]
  },
  {
   "cell_type": "code",
   "execution_count": 117,
   "metadata": {},
   "outputs": [
    {
     "name": "stdout",
     "output_type": "stream",
     "text": [
      "2021-01-01\n",
      "2021-01-02\n",
      "2021-01-03\n",
      "2021-01-04\n",
      "2021-01-05\n",
      "2021-01-06\n",
      "2021-01-07\n",
      "2021-01-08\n",
      "2021-01-09\n",
      "2021-01-10\n",
      "2021-01-11\n",
      "2021-01-12\n",
      "2021-01-13\n",
      "2021-01-14\n",
      "2021-01-15\n",
      "2021-01-16\n",
      "2021-01-17\n",
      "2021-01-18\n",
      "2021-01-19\n",
      "2021-01-20\n",
      "2021-01-21\n",
      "2021-01-22\n",
      "2021-01-23\n",
      "2021-01-24\n",
      "2021-01-25\n",
      "2021-01-26\n",
      "2021-01-27\n",
      "2021-01-28\n",
      "2021-01-29\n",
      "2021-01-30\n",
      "2021-01-31\n",
      "2021-02-01\n",
      "2021-02-02\n",
      "2021-02-03\n",
      "2021-02-04\n",
      "2021-02-05\n",
      "2021-02-06\n",
      "2021-02-07\n",
      "2021-02-08\n",
      "2021-02-09\n",
      "2021-02-10\n",
      "2021-02-11\n",
      "2021-02-12\n",
      "2021-02-13\n",
      "2021-02-14\n",
      "2021-02-15\n",
      "2021-02-16\n",
      "2021-02-17\n",
      "2021-02-18\n",
      "2021-02-19\n",
      "2021-02-20\n",
      "2021-02-21\n",
      "2021-02-22\n",
      "2021-02-23\n",
      "2021-02-24\n",
      "2021-02-25\n",
      "2021-02-26\n",
      "2021-02-27\n",
      "2021-02-28\n",
      "2021-03-01\n",
      "2021-03-02\n",
      "2021-03-03\n",
      "2021-03-04\n",
      "2021-03-05\n",
      "2021-03-06\n",
      "2021-03-07\n",
      "2021-03-08\n",
      "2021-03-09\n",
      "2021-03-10\n",
      "2021-03-11\n",
      "2021-03-12\n",
      "2021-03-13\n",
      "2021-03-14\n",
      "2021-03-15\n",
      "2021-03-16\n",
      "2021-03-17\n",
      "2021-03-18\n",
      "2021-03-19\n",
      "2021-03-20\n",
      "2021-03-21\n",
      "2021-03-22\n",
      "2021-03-23\n",
      "2021-03-24\n",
      "2021-03-25\n",
      "2021-03-26\n",
      "2021-03-27\n",
      "2021-03-28\n",
      "2021-03-29\n",
      "2021-03-30\n",
      "2021-03-31\n",
      "2021-04-01\n",
      "2021-04-02\n",
      "2021-04-03\n",
      "2021-04-04\n",
      "2021-04-05\n",
      "2021-04-06\n",
      "2021-04-07\n",
      "2021-04-08\n",
      "2021-04-09\n",
      "2021-04-10\n",
      "2021-04-11\n",
      "2021-04-12\n",
      "2021-04-13\n",
      "2021-04-14\n",
      "2021-04-15\n",
      "2021-04-16\n",
      "2021-04-17\n",
      "2021-04-18\n",
      "2021-04-19\n",
      "2021-04-20\n",
      "2021-04-21\n",
      "2021-04-22\n",
      "2021-04-23\n",
      "2021-04-24\n",
      "2021-04-25\n",
      "2021-04-26\n",
      "2021-04-27\n",
      "2021-04-28\n",
      "2021-04-29\n",
      "2021-04-30\n",
      "2021-05-01\n",
      "2021-05-02\n",
      "2021-05-03\n",
      "2021-05-04\n",
      "2021-05-05\n",
      "2021-05-06\n",
      "2021-05-07\n",
      "2021-05-08\n",
      "2021-05-09\n",
      "2021-05-10\n",
      "2021-05-11\n",
      "2021-05-12\n",
      "2021-05-13\n",
      "2021-05-14\n",
      "2021-05-15\n",
      "2021-05-16\n",
      "2021-05-17\n",
      "2021-05-18\n",
      "2021-05-19\n",
      "2021-05-20\n",
      "2021-05-21\n",
      "2021-05-22\n",
      "2021-05-23\n",
      "2021-05-24\n",
      "2021-05-25\n",
      "2021-05-26\n",
      "2021-05-27\n",
      "2021-05-28\n",
      "2021-05-29\n",
      "2021-05-30\n",
      "2021-05-31\n",
      "2021-06-01\n",
      "2021-06-02\n",
      "2021-06-03\n",
      "2021-06-04\n",
      "2021-06-05\n",
      "2021-06-06\n",
      "2021-06-07\n",
      "2021-06-08\n",
      "2021-06-09\n",
      "2021-06-10\n",
      "2021-06-11\n",
      "2021-06-12\n",
      "2021-06-13\n",
      "2021-06-14\n",
      "2021-06-15\n",
      "2021-06-16\n",
      "2021-06-17\n",
      "2021-06-18\n",
      "2021-06-19\n",
      "2021-06-20\n",
      "2021-06-21\n",
      "2021-06-22\n",
      "2021-06-23\n",
      "2021-06-24\n",
      "2021-06-25\n",
      "2021-06-26\n",
      "2021-06-27\n",
      "2021-06-28\n",
      "2021-06-29\n",
      "2021-06-30\n",
      "2021-07-01\n",
      "2021-07-02\n",
      "2021-07-03\n",
      "2021-07-04\n",
      "2021-07-05\n",
      "2021-07-06\n",
      "2021-07-07\n",
      "2021-07-08\n",
      "2021-07-09\n",
      "2021-07-10\n",
      "2021-07-11\n",
      "2021-07-12\n",
      "2021-07-13\n",
      "2021-07-14\n",
      "2021-07-15\n",
      "2021-07-16\n"
     ]
    }
   ],
   "source": [
    "for i in range(550):\n",
    "    print(str(start_date))\n",
    "    if str(start_date) == '2021-07-16':\n",
    "        break\n",
    "    api_url = f\"https://api.brightsky.dev/weather?lat=52.465455&lon=13.422762&date={str(start_date)}\"\n",
    "    dt = requests.get(api_url)\n",
    "    start_date = start_date + timedelta(1)  \n",
    "    precipitation = 0\n",
    "    pressure_msl = 0\n",
    "    sunshine = 0\n",
    "    temperature = 0\n",
    "    wind_direction = 0\n",
    "    wind_speed = 0\n",
    "    cloud_cover = 0\n",
    "    dew_point = 0\n",
    "    relative_humidity = 0\n",
    "    visibility = 0\n",
    "    wind_gust_direction = 0\n",
    "    wind_gust_speed = 0\n",
    "    for i in dt.json()['weather']:\n",
    "        if str(start_date) in i['timestamp']:\n",
    "            precipitation += i['precipitation']\n",
    "            pressure_msl += i['pressure_msl']\n",
    "            if type(i['sunshine']) != type(None):\n",
    "                sunshine += i['sunshine']\n",
    "            temperature += i['temperature']\n",
    "            wind_direction += i['wind_direction']\n",
    "            wind_speed += i['wind_speed']\n",
    "            cloud_cover += i['cloud_cover']\n",
    "            dew_point += i['dew_point']\n",
    "            relative_humidity += i['relative_humidity']\n",
    "            visibility += i['visibility']\n",
    "            if type(i['wind_gust_direction']) != type(None):\n",
    "                wind_gust_direction += i['wind_gust_direction']\n",
    "            wind_gust_speed += i['wind_gust_speed']\n",
    "    precipitation = precipitation/24\n",
    "    pressure_msl = pressure_msl/24\n",
    "    sunshine = sunshine/24\n",
    "    temperature = temperature/24\n",
    "    wind_direction = wind_direction/24\n",
    "    wind_speed = wind_speed/24\n",
    "    cloud_cover = cloud_cover/24\n",
    "    dew_point = dew_point/24\n",
    "    relative_humidity = relative_humidity/24\n",
    "    visibility = visibility/24\n",
    "    wind_gust_direction = wind_gust_direction/24\n",
    "    wind_gust_speed = wind_gust_speed/24\n",
    "    weather_data += [{'timestamp': str(start_date),\n",
    "      'precipitation': precipitation,\n",
    "      'pressure_msl': pressure_msl,\n",
    "      'sunshine': sunshine,\n",
    "      'temperature': temperature,\n",
    "      'wind_direction': wind_direction,\n",
    "      'wind_speed': wind_speed,\n",
    "      'cloud_cover': cloud_cover,\n",
    "      'dew_point': dew_point,\n",
    "      'relative_humidity': relative_humidity,\n",
    "      'visibility': visibility,\n",
    "      'wind_gust_direction': wind_gust_direction,\n",
    "      'wind_gust_speed': wind_gust_speed}]"
   ]
  },
  {
   "cell_type": "code",
   "execution_count": 60,
   "metadata": {},
   "outputs": [],
   "source": [
    "api_url = \"https://api.brightsky.dev/weather?lat=52.465455&lon=13.422762&date=2019-01-02\""
   ]
  },
  {
   "cell_type": "code",
   "execution_count": 61,
   "metadata": {},
   "outputs": [],
   "source": [
    "dt =requests.get(api_url)"
   ]
  },
  {
   "cell_type": "code",
   "execution_count": 70,
   "metadata": {},
   "outputs": [],
   "source": []
  },
  {
   "cell_type": "code",
   "execution_count": 62,
   "metadata": {},
   "outputs": [
    {
     "data": {
      "text/plain": [
       "[{'timestamp': '2019-01-02T00:00:00+00:00',\n",
       "  'source_id': 6894,\n",
       "  'precipitation': 0.0,\n",
       "  'pressure_msl': 1014.8,\n",
       "  'sunshine': None,\n",
       "  'temperature': 3.2,\n",
       "  'wind_direction': 300,\n",
       "  'wind_speed': 38.2,\n",
       "  'cloud_cover': 62,\n",
       "  'dew_point': -1.6,\n",
       "  'relative_humidity': 71,\n",
       "  'visibility': 30000,\n",
       "  'wind_gust_direction': 300,\n",
       "  'wind_gust_speed': 64.1,\n",
       "  'condition': 'dry',\n",
       "  'fallback_source_ids': {'visibility': 6885, 'cloud_cover': 6885},\n",
       "  'icon': 'partly-cloudy-night'},\n",
       " {'timestamp': '2019-01-02T01:00:00+00:00',\n",
       "  'source_id': 6894,\n",
       "  'precipitation': 0.0,\n",
       "  'pressure_msl': 1015.3,\n",
       "  'sunshine': None,\n",
       "  'temperature': 2.9,\n",
       "  'wind_direction': 300,\n",
       "  'wind_speed': 33.5,\n",
       "  'cloud_cover': 12,\n",
       "  'dew_point': -1.5,\n",
       "  'relative_humidity': 73,\n",
       "  'visibility': 30000,\n",
       "  'wind_gust_direction': 300,\n",
       "  'wind_gust_speed': 53.6,\n",
       "  'condition': 'dry',\n",
       "  'fallback_source_ids': {'visibility': 6885, 'cloud_cover': 6885},\n",
       "  'icon': 'clear-night'},\n",
       " {'timestamp': '2019-01-02T02:00:00+00:00',\n",
       "  'source_id': 6894,\n",
       "  'precipitation': 0.0,\n",
       "  'pressure_msl': 1015.8,\n",
       "  'sunshine': None,\n",
       "  'temperature': 2.8,\n",
       "  'wind_direction': 300,\n",
       "  'wind_speed': 31.0,\n",
       "  'cloud_cover': 12,\n",
       "  'dew_point': -1.6,\n",
       "  'relative_humidity': 73,\n",
       "  'visibility': 30000,\n",
       "  'wind_gust_direction': 290,\n",
       "  'wind_gust_speed': 47.2,\n",
       "  'condition': 'dry',\n",
       "  'fallback_source_ids': {'visibility': 6885, 'cloud_cover': 6885},\n",
       "  'icon': 'clear-night'},\n",
       " {'timestamp': '2019-01-02T03:00:00+00:00',\n",
       "  'source_id': 6894,\n",
       "  'precipitation': 0.0,\n",
       "  'pressure_msl': 1016.1,\n",
       "  'sunshine': 0.0,\n",
       "  'temperature': 3.0,\n",
       "  'wind_direction': 300,\n",
       "  'wind_speed': 30.2,\n",
       "  'cloud_cover': 37,\n",
       "  'dew_point': -2.0,\n",
       "  'relative_humidity': 70,\n",
       "  'visibility': 35000,\n",
       "  'wind_gust_direction': 320,\n",
       "  'wind_gust_speed': 45.4,\n",
       "  'condition': 'dry',\n",
       "  'fallback_source_ids': {'visibility': 6885, 'cloud_cover': 6885},\n",
       "  'icon': 'partly-cloudy-night'},\n",
       " {'timestamp': '2019-01-02T04:00:00+00:00',\n",
       "  'source_id': 6894,\n",
       "  'precipitation': 0.0,\n",
       "  'pressure_msl': 1016.7,\n",
       "  'sunshine': 0.0,\n",
       "  'temperature': 3.3,\n",
       "  'wind_direction': 310,\n",
       "  'wind_speed': 31.0,\n",
       "  'cloud_cover': 87,\n",
       "  'dew_point': -2.4,\n",
       "  'relative_humidity': 66,\n",
       "  'visibility': 20000,\n",
       "  'wind_gust_direction': 310,\n",
       "  'wind_gust_speed': 63.7,\n",
       "  'condition': 'dry',\n",
       "  'fallback_source_ids': {'visibility': 6885, 'cloud_cover': 6885},\n",
       "  'icon': 'cloudy'},\n",
       " {'timestamp': '2019-01-02T05:00:00+00:00',\n",
       "  'source_id': 6894,\n",
       "  'precipitation': 0.0,\n",
       "  'pressure_msl': 1017.3,\n",
       "  'sunshine': 0.0,\n",
       "  'temperature': 2.7,\n",
       "  'wind_direction': 300,\n",
       "  'wind_speed': 32.8,\n",
       "  'cloud_cover': 87,\n",
       "  'dew_point': -2.3,\n",
       "  'relative_humidity': 69,\n",
       "  'visibility': 30000,\n",
       "  'wind_gust_direction': 290,\n",
       "  'wind_gust_speed': 47.2,\n",
       "  'condition': 'dry',\n",
       "  'fallback_source_ids': {'visibility': 6885, 'cloud_cover': 6885},\n",
       "  'icon': 'cloudy'},\n",
       " {'timestamp': '2019-01-02T06:00:00+00:00',\n",
       "  'source_id': 6894,\n",
       "  'precipitation': 0.0,\n",
       "  'pressure_msl': 1018.2,\n",
       "  'sunshine': 0.0,\n",
       "  'temperature': 3.1,\n",
       "  'wind_direction': 320,\n",
       "  'wind_speed': 28.1,\n",
       "  'cloud_cover': 87,\n",
       "  'dew_point': -3.4,\n",
       "  'relative_humidity': 62,\n",
       "  'visibility': 40000,\n",
       "  'wind_gust_direction': 320,\n",
       "  'wind_gust_speed': 47.5,\n",
       "  'condition': 'dry',\n",
       "  'fallback_source_ids': {'visibility': 6885, 'cloud_cover': 6885},\n",
       "  'icon': 'cloudy'},\n",
       " {'timestamp': '2019-01-02T07:00:00+00:00',\n",
       "  'source_id': 6894,\n",
       "  'precipitation': 0.0,\n",
       "  'pressure_msl': 1019.4,\n",
       "  'sunshine': 0.0,\n",
       "  'temperature': 3.1,\n",
       "  'wind_direction': 320,\n",
       "  'wind_speed': 28.1,\n",
       "  'cloud_cover': 87,\n",
       "  'dew_point': -3.3,\n",
       "  'relative_humidity': 63,\n",
       "  'visibility': 30000,\n",
       "  'wind_gust_direction': 340,\n",
       "  'wind_gust_speed': 47.5,\n",
       "  'condition': 'dry',\n",
       "  'fallback_source_ids': {'visibility': 6885,\n",
       "   'condition': 6885,\n",
       "   'cloud_cover': 6885},\n",
       "  'icon': 'cloudy'},\n",
       " {'timestamp': '2019-01-02T08:00:00+00:00',\n",
       "  'source_id': 6894,\n",
       "  'precipitation': 0.0,\n",
       "  'pressure_msl': 1020.6,\n",
       "  'sunshine': 0.0,\n",
       "  'temperature': 3.4,\n",
       "  'wind_direction': 330,\n",
       "  'wind_speed': 29.9,\n",
       "  'cloud_cover': 87,\n",
       "  'dew_point': -4.0,\n",
       "  'relative_humidity': 58,\n",
       "  'visibility': 22000,\n",
       "  'wind_gust_direction': 330,\n",
       "  'wind_gust_speed': 53.6,\n",
       "  'condition': 'snow',\n",
       "  'fallback_source_ids': {'visibility': 6885,\n",
       "   'condition': 6885,\n",
       "   'cloud_cover': 6885},\n",
       "  'icon': 'snow'},\n",
       " {'timestamp': '2019-01-02T09:00:00+00:00',\n",
       "  'source_id': 6894,\n",
       "  'precipitation': 0.0,\n",
       "  'pressure_msl': 1022.1,\n",
       "  'sunshine': 0.0,\n",
       "  'temperature': 2.8,\n",
       "  'wind_direction': 340,\n",
       "  'wind_speed': 32.0,\n",
       "  'cloud_cover': 87,\n",
       "  'dew_point': -3.2,\n",
       "  'relative_humidity': 65,\n",
       "  'visibility': 18000,\n",
       "  'wind_gust_direction': 350,\n",
       "  'wind_gust_speed': 49.0,\n",
       "  'condition': 'dry',\n",
       "  'fallback_source_ids': {'visibility': 6885, 'cloud_cover': 6885},\n",
       "  'icon': 'cloudy'},\n",
       " {'timestamp': '2019-01-02T10:00:00+00:00',\n",
       "  'source_id': 6894,\n",
       "  'precipitation': 0.2,\n",
       "  'pressure_msl': 1023.7,\n",
       "  'sunshine': 0.0,\n",
       "  'temperature': 1.0,\n",
       "  'wind_direction': 360,\n",
       "  'wind_speed': 26.6,\n",
       "  'cloud_cover': 87,\n",
       "  'dew_point': -1.2,\n",
       "  'relative_humidity': 85,\n",
       "  'visibility': 20000,\n",
       "  'wind_gust_direction': 20,\n",
       "  'wind_gust_speed': 42.1,\n",
       "  'condition': 'rain',\n",
       "  'fallback_source_ids': {'visibility': 6885, 'cloud_cover': 6885},\n",
       "  'icon': 'cloudy'},\n",
       " {'timestamp': '2019-01-02T11:00:00+00:00',\n",
       "  'source_id': 6894,\n",
       "  'precipitation': 0.0,\n",
       "  'pressure_msl': 1024.4,\n",
       "  'sunshine': 0.0,\n",
       "  'temperature': 2.0,\n",
       "  'wind_direction': 340,\n",
       "  'wind_speed': 20.2,\n",
       "  'cloud_cover': 87,\n",
       "  'dew_point': -1.2,\n",
       "  'relative_humidity': 79,\n",
       "  'visibility': 18000,\n",
       "  'wind_gust_direction': 330,\n",
       "  'wind_gust_speed': 33.8,\n",
       "  'condition': 'dry',\n",
       "  'fallback_source_ids': {'visibility': 6885, 'cloud_cover': 6885},\n",
       "  'icon': 'cloudy'},\n",
       " {'timestamp': '2019-01-02T12:00:00+00:00',\n",
       "  'source_id': 6894,\n",
       "  'precipitation': 0.0,\n",
       "  'pressure_msl': 1024.9,\n",
       "  'sunshine': 23.0,\n",
       "  'temperature': 3.1,\n",
       "  'wind_direction': 350,\n",
       "  'wind_speed': 21.2,\n",
       "  'cloud_cover': 62,\n",
       "  'dew_point': -4.8,\n",
       "  'relative_humidity': 56,\n",
       "  'visibility': 50000,\n",
       "  'wind_gust_direction': 350,\n",
       "  'wind_gust_speed': 49.0,\n",
       "  'condition': 'dry',\n",
       "  'fallback_source_ids': {'visibility': 6885, 'cloud_cover': 6885},\n",
       "  'icon': 'partly-cloudy-day'},\n",
       " {'timestamp': '2019-01-02T13:00:00+00:00',\n",
       "  'source_id': 6894,\n",
       "  'precipitation': 0.0,\n",
       "  'pressure_msl': 1025.7,\n",
       "  'sunshine': 45.0,\n",
       "  'temperature': 3.1,\n",
       "  'wind_direction': 350,\n",
       "  'wind_speed': 32.8,\n",
       "  'cloud_cover': 37,\n",
       "  'dew_point': -7.7,\n",
       "  'relative_humidity': 45,\n",
       "  'visibility': 50000,\n",
       "  'wind_gust_direction': 350,\n",
       "  'wind_gust_speed': 47.9,\n",
       "  'condition': 'dry',\n",
       "  'fallback_source_ids': {'visibility': 6885, 'cloud_cover': 6885},\n",
       "  'icon': 'partly-cloudy-day'},\n",
       " {'timestamp': '2019-01-02T14:00:00+00:00',\n",
       "  'source_id': 6894,\n",
       "  'precipitation': 0.0,\n",
       "  'pressure_msl': 1026.3,\n",
       "  'sunshine': 42.0,\n",
       "  'temperature': 2.8,\n",
       "  'wind_direction': 350,\n",
       "  'wind_speed': 26.3,\n",
       "  'cloud_cover': 62,\n",
       "  'dew_point': -6.9,\n",
       "  'relative_humidity': 49,\n",
       "  'visibility': 40000,\n",
       "  'wind_gust_direction': 320,\n",
       "  'wind_gust_speed': 51.5,\n",
       "  'condition': 'dry',\n",
       "  'fallback_source_ids': {'visibility': 6885, 'cloud_cover': 6885},\n",
       "  'icon': 'partly-cloudy-day'},\n",
       " {'timestamp': '2019-01-02T15:00:00+00:00',\n",
       "  'source_id': 6894,\n",
       "  'precipitation': 0.0,\n",
       "  'pressure_msl': 1027.09,\n",
       "  'sunshine': 0.0,\n",
       "  'temperature': 2.0,\n",
       "  'wind_direction': 340,\n",
       "  'wind_speed': 32.0,\n",
       "  'cloud_cover': 75,\n",
       "  'dew_point': -6.2,\n",
       "  'relative_humidity': 54,\n",
       "  'visibility': 35000,\n",
       "  'wind_gust_direction': 330,\n",
       "  'wind_gust_speed': 60.8,\n",
       "  'condition': 'rain',\n",
       "  'fallback_source_ids': {'visibility': 6885, 'cloud_cover': 6885},\n",
       "  'icon': 'partly-cloudy-day'},\n",
       " {'timestamp': '2019-01-02T16:00:00+00:00',\n",
       "  'source_id': 6894,\n",
       "  'precipitation': 0.0,\n",
       "  'pressure_msl': 1028.0,\n",
       "  'sunshine': 0.0,\n",
       "  'temperature': 1.8,\n",
       "  'wind_direction': 340,\n",
       "  'wind_speed': 30.6,\n",
       "  'cloud_cover': 75,\n",
       "  'dew_point': -6.6,\n",
       "  'relative_humidity': 53,\n",
       "  'visibility': 35000,\n",
       "  'wind_gust_direction': 350,\n",
       "  'wind_gust_speed': 53.6,\n",
       "  'condition': 'dry',\n",
       "  'fallback_source_ids': {'visibility': 6885, 'cloud_cover': 6885},\n",
       "  'icon': 'partly-cloudy-night'},\n",
       " {'timestamp': '2019-01-02T17:00:00+00:00',\n",
       "  'source_id': 6894,\n",
       "  'precipitation': 0.0,\n",
       "  'pressure_msl': 1029.0,\n",
       "  'sunshine': 0.0,\n",
       "  'temperature': 1.5,\n",
       "  'wind_direction': 350,\n",
       "  'wind_speed': 30.2,\n",
       "  'cloud_cover': 50,\n",
       "  'dew_point': -10.0,\n",
       "  'relative_humidity': 42,\n",
       "  'visibility': 40000,\n",
       "  'wind_gust_direction': 330,\n",
       "  'wind_gust_speed': 55.1,\n",
       "  'condition': 'dry',\n",
       "  'fallback_source_ids': {'visibility': 6885, 'cloud_cover': 6885},\n",
       "  'icon': 'partly-cloudy-night'},\n",
       " {'timestamp': '2019-01-02T18:00:00+00:00',\n",
       "  'source_id': 6894,\n",
       "  'precipitation': 0.0,\n",
       "  'pressure_msl': 1029.8,\n",
       "  'sunshine': 0.0,\n",
       "  'temperature': 1.0,\n",
       "  'wind_direction': 340,\n",
       "  'wind_speed': 29.5,\n",
       "  'cloud_cover': 12,\n",
       "  'dew_point': -10.1,\n",
       "  'relative_humidity': 43,\n",
       "  'visibility': 40000,\n",
       "  'wind_gust_direction': 340,\n",
       "  'wind_gust_speed': 49.3,\n",
       "  'condition': 'dry',\n",
       "  'fallback_source_ids': {'visibility': 6885, 'cloud_cover': 6885},\n",
       "  'icon': 'clear-night'},\n",
       " {'timestamp': '2019-01-02T19:00:00+00:00',\n",
       "  'source_id': 6894,\n",
       "  'precipitation': 0.0,\n",
       "  'pressure_msl': 1030.3,\n",
       "  'sunshine': 0.0,\n",
       "  'temperature': 0.0,\n",
       "  'wind_direction': 330,\n",
       "  'wind_speed': 20.9,\n",
       "  'cloud_cover': 12,\n",
       "  'dew_point': -8.6,\n",
       "  'relative_humidity': 52,\n",
       "  'visibility': 40000,\n",
       "  'wind_gust_direction': 320,\n",
       "  'wind_gust_speed': 34.2,\n",
       "  'condition': 'dry',\n",
       "  'fallback_source_ids': {'visibility': 6885, 'cloud_cover': 6885},\n",
       "  'icon': 'clear-night'},\n",
       " {'timestamp': '2019-01-02T20:00:00+00:00',\n",
       "  'source_id': 6894,\n",
       "  'precipitation': 0.0,\n",
       "  'pressure_msl': 1030.9,\n",
       "  'sunshine': 0.0,\n",
       "  'temperature': -0.5,\n",
       "  'wind_direction': 320,\n",
       "  'wind_speed': 18.0,\n",
       "  'cloud_cover': 12,\n",
       "  'dew_point': -7.9,\n",
       "  'relative_humidity': 57,\n",
       "  'visibility': 40000,\n",
       "  'wind_gust_direction': 320,\n",
       "  'wind_gust_speed': 27.0,\n",
       "  'condition': 'dry',\n",
       "  'fallback_source_ids': {'visibility': 6885, 'cloud_cover': 6885},\n",
       "  'icon': 'clear-night'},\n",
       " {'timestamp': '2019-01-02T21:00:00+00:00',\n",
       "  'source_id': 6894,\n",
       "  'precipitation': 0.0,\n",
       "  'pressure_msl': 1031.09,\n",
       "  'sunshine': None,\n",
       "  'temperature': -1.2,\n",
       "  'wind_direction': 310,\n",
       "  'wind_speed': 16.2,\n",
       "  'cloud_cover': 0,\n",
       "  'dew_point': -7.9,\n",
       "  'relative_humidity': 60,\n",
       "  'visibility': 45000,\n",
       "  'wind_gust_direction': 300,\n",
       "  'wind_gust_speed': 24.5,\n",
       "  'condition': 'dry',\n",
       "  'fallback_source_ids': {'visibility': 6885, 'cloud_cover': 6885},\n",
       "  'icon': 'clear-night'},\n",
       " {'timestamp': '2019-01-02T22:00:00+00:00',\n",
       "  'source_id': 6894,\n",
       "  'precipitation': 0.0,\n",
       "  'pressure_msl': 1031.0,\n",
       "  'sunshine': None,\n",
       "  'temperature': -1.5,\n",
       "  'wind_direction': 310,\n",
       "  'wind_speed': 14.4,\n",
       "  'cloud_cover': 0,\n",
       "  'dew_point': -7.2,\n",
       "  'relative_humidity': 65,\n",
       "  'visibility': 45000,\n",
       "  'wind_gust_direction': 300,\n",
       "  'wind_gust_speed': 25.2,\n",
       "  'condition': 'dry',\n",
       "  'fallback_source_ids': {'visibility': 6885, 'cloud_cover': 6885},\n",
       "  'icon': 'clear-night'},\n",
       " {'timestamp': '2019-01-02T23:00:00+00:00',\n",
       "  'source_id': 6894,\n",
       "  'precipitation': 0.0,\n",
       "  'pressure_msl': 1031.09,\n",
       "  'sunshine': None,\n",
       "  'temperature': -1.2,\n",
       "  'wind_direction': 310,\n",
       "  'wind_speed': 16.6,\n",
       "  'cloud_cover': 0,\n",
       "  'dew_point': -6.8,\n",
       "  'relative_humidity': 65,\n",
       "  'visibility': 45000,\n",
       "  'wind_gust_direction': 310,\n",
       "  'wind_gust_speed': 27.0,\n",
       "  'condition': 'dry',\n",
       "  'fallback_source_ids': {'visibility': 6885, 'cloud_cover': 6885},\n",
       "  'icon': 'clear-night'},\n",
       " {'timestamp': '2019-01-03T00:00:00+00:00',\n",
       "  'source_id': 6894,\n",
       "  'precipitation': 0.0,\n",
       "  'pressure_msl': 1031.5,\n",
       "  'sunshine': None,\n",
       "  'temperature': -1.5,\n",
       "  'wind_direction': 310,\n",
       "  'wind_speed': 17.3,\n",
       "  'cloud_cover': 0,\n",
       "  'dew_point': -6.3,\n",
       "  'relative_humidity': 70,\n",
       "  'visibility': 45000,\n",
       "  'wind_gust_direction': 310,\n",
       "  'wind_gust_speed': 25.2,\n",
       "  'condition': 'dry',\n",
       "  'fallback_source_ids': {'visibility': 6885, 'cloud_cover': 6885},\n",
       "  'icon': 'clear-night'}]"
      ]
     },
     "execution_count": 62,
     "metadata": {},
     "output_type": "execute_result"
    }
   ],
   "source": [
    "dt.json()['weather']"
   ]
  },
  {
   "cell_type": "code",
   "execution_count": null,
   "metadata": {},
   "outputs": [],
   "source": []
  }
 ],
 "metadata": {
  "kernelspec": {
   "display_name": "arena_venv",
   "language": "python",
   "name": "arena_venv"
  },
  "language_info": {
   "codemirror_mode": {
    "name": "ipython",
    "version": 3
   },
   "file_extension": ".py",
   "mimetype": "text/x-python",
   "name": "python",
   "nbconvert_exporter": "python",
   "pygments_lexer": "ipython3",
   "version": "3.7.4"
  }
 },
 "nbformat": 4,
 "nbformat_minor": 4
}
