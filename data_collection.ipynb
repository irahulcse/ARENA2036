{
 "cells": [
  {
   "cell_type": "code",
   "execution_count": 2,
   "metadata": {},
   "outputs": [
    {
     "name": "stdout",
     "output_type": "stream",
     "text": [
      "Collecting requests\n",
      "  Downloading requests-2.28.1-py3-none-any.whl (62 kB)\n",
      "\u001b[2K     \u001b[38;2;114;156;31m━━━━━━━━━━━━━━━━━━━━━━━━━━━━━━━━━━━━━━━━\u001b[0m \u001b[32m62.8/62.8 kB\u001b[0m \u001b[31m1.9 MB/s\u001b[0m eta \u001b[36m0:00:00\u001b[0m\n",
      "\u001b[?25hCollecting idna<4,>=2.5\n",
      "  Using cached idna-3.3-py3-none-any.whl (61 kB)\n",
      "Collecting certifi>=2017.4.17\n",
      "  Downloading certifi-2022.6.15-py3-none-any.whl (160 kB)\n",
      "\u001b[2K     \u001b[38;2;114;156;31m━━━━━━━━━━━━━━━━━━━━━━━━━━━━━━━━━━━━━━━\u001b[0m \u001b[32m160.2/160.2 kB\u001b[0m \u001b[31m2.9 MB/s\u001b[0m eta \u001b[36m0:00:00\u001b[0m MB/s\u001b[0m eta \u001b[36m0:00:01\u001b[0m\n",
      "\u001b[?25hCollecting charset-normalizer<3,>=2\n",
      "  Downloading charset_normalizer-2.1.0-py3-none-any.whl (39 kB)\n",
      "Collecting urllib3<1.27,>=1.21.1\n",
      "  Downloading urllib3-1.26.9-py2.py3-none-any.whl (138 kB)\n",
      "\u001b[2K     \u001b[38;2;114;156;31m━━━━━━━━━━━━━━━━━━━━━━━━━━━━━━━━━━━━━━━\u001b[0m \u001b[32m139.0/139.0 kB\u001b[0m \u001b[31m5.0 MB/s\u001b[0m eta \u001b[36m0:00:00\u001b[0m\n",
      "\u001b[?25hInstalling collected packages: urllib3, idna, charset-normalizer, certifi, requests\n",
      "Successfully installed certifi-2022.6.15 charset-normalizer-2.1.0 idna-3.3 requests-2.28.1 urllib3-1.26.9\n"
     ]
    }
   ],
   "source": [
    "!pip install requests"
   ]
  },
  {
   "cell_type": "code",
   "execution_count": 1,
   "metadata": {},
   "outputs": [],
   "source": [
    "import requests\n",
    "import os\n",
    "import json"
   ]
  },
  {
   "cell_type": "code",
   "execution_count": 3,
   "metadata": {},
   "outputs": [],
   "source": [
    "sensor_station = \"https://luftdaten.berlin.de/api/stations?active=true&include_hidden=true\""
   ]
  },
  {
   "cell_type": "code",
   "execution_count": 12,
   "metadata": {},
   "outputs": [],
   "source": [
    "data = requests.get(sensor_station)"
   ]
  },
  {
   "cell_type": "code",
   "execution_count": 17,
   "metadata": {},
   "outputs": [],
   "source": [
    "\n",
    "with open('sensor_station.json', 'w') as json_file:\n",
    "    json.dump(data.json(), json_file)\n"
   ]
  },
  {
   "cell_type": "code",
   "execution_count": 18,
   "metadata": {},
   "outputs": [],
   "source": [
    "json_data = data.json()"
   ]
  },
  {
   "cell_type": "code",
   "execution_count": 102,
   "metadata": {},
   "outputs": [],
   "source": [
    "# for code in json_data:\n",
    "for i in range(1, 9):\n",
    "    station_code = 'MC221'\n",
    "    data_api = f\"https://luftdaten.berlin.de/api/stations/{station_code}/data?period=1h&timespan=custom&start=01.0{i}.2019%2000%3A00&end=01.0{i+1}.2019%2000%3A00\"\n",
    "    dt = requests.get(data_api)\n",
    "    path = os.path.join(os.getcwd(), f'data_station_wise/01-{i}-19-01-{i+1}-19') \n",
    "    if not os.path.isdir(path): \n",
    "        os.makedirs(path)\n",
    "    with open(f'data_station_wise/01-{i}-19-01-{i+1}-19/{station_code}.json', 'w') as json_file:\n",
    "        json.dump(dt.json(), json_file)\n"
   ]
  },
  {
   "cell_type": "code",
   "execution_count": 105,
   "metadata": {},
   "outputs": [],
   "source": [
    "data_api = f\"https://luftdaten.berlin.de/api/stations/mc221/data?period=1h&timespan=custom&start=01.01.2019%2000%3A00&end=01.02.2019%2000%3A00\"\n",
    "dt = requests.get(data_api)\n"
   ]
  },
  {
   "cell_type": "code",
   "execution_count": 106,
   "metadata": {},
   "outputs": [
    {
     "data": {
      "text/plain": [
       "[]"
      ]
     },
     "execution_count": 106,
     "metadata": {},
     "output_type": "execute_result"
    }
   ],
   "source": [
    "dt.json()"
   ]
  },
  {
   "cell_type": "code",
   "execution_count": 74,
   "metadata": {},
   "outputs": [],
   "source": [
    "for code in json_data:\n",
    "    station_code = code['code']\n",
    "    data_api = f\"https://luftdaten.berlin.de/api/stations/{station_code}/data?period=1h&timespan=custom&start=01.12.2019%2000%3A00&end=01.01.2020%2000%3A00\"\n",
    "    dt = requests.get(data_api)\n",
    "    path = os.path.join(os.getcwd(), f'data_station_wise/01-12-19-01-01-20') \n",
    "    if not os.path.isdir(path): \n",
    "        os.makedirs(path)\n",
    "    with open(f'data_station_wise/01-12-19-01-01-20/{station_code}.json', 'w') as json_file:\n",
    "        json.dump(dt.json(), json_file)\n"
   ]
  },
  {
   "cell_type": "code",
   "execution_count": null,
   "metadata": {},
   "outputs": [],
   "source": []
  },
  {
   "cell_type": "code",
   "execution_count": 25,
   "metadata": {},
   "outputs": [],
   "source": [
    "station_code=json_data[0]['code']"
   ]
  },
  {
   "cell_type": "code",
   "execution_count": 26,
   "metadata": {},
   "outputs": [],
   "source": [
    "data_api = f\"https://luftdaten.berlin.de/api/stations/{station_code}/data?period=1h&timespan=custom&start=01.01.2019%2000%3A00&end=01.02.2019%2000%3A00\"\n"
   ]
  },
  {
   "cell_type": "code",
   "execution_count": 27,
   "metadata": {},
   "outputs": [],
   "source": [
    "dt = requests.get(data_api)"
   ]
  },
  {
   "cell_type": "code",
   "execution_count": 82,
   "metadata": {},
   "outputs": [
    {
     "data": {
      "text/plain": [
       "['01-9-19-01-10-19',\n",
       " '.DS_Store',\n",
       " '01-6-19-01-7-19',\n",
       " '01-10-19-01-11-19',\n",
       " '01-11-19-01-12-19',\n",
       " '01-1-19-01-2-19',\n",
       " '01-8-19-01-9-19',\n",
       " '01-4-19-01-5-19',\n",
       " '01-2-19-01-3-19',\n",
       " '.ipynb_checkpoints',\n",
       " '01-3-19-01-4-19',\n",
       " '01-12-19-01-01-20',\n",
       " '01-5-19-01-6-19',\n",
       " '01-7-19-01-8-19']"
      ]
     },
     "execution_count": 82,
     "metadata": {},
     "output_type": "execute_result"
    }
   ],
   "source": [
    "os.listdir('data_station_wise/')"
   ]
  },
  {
   "cell_type": "code",
   "execution_count": 92,
   "metadata": {},
   "outputs": [],
   "source": [
    "inside_files = ['MC221'] #, 'mc143', 'mc042']\n",
    "for file_n in inside_files:\n",
    "    data_main = []\n",
    "    for folder in os.listdir(f'data_station_wise/'):\n",
    "        if folder != '.DS_Store' and folder != '.ipynb_checkpoints':\n",
    "            file_dt = f'./data_station_wise/{folder}/{file_n}.json'\n",
    "            f = open(file_dt)\n",
    "            data = json.load(f)\n",
    "            data_main += data\n",
    "    with open(f'{folder}_{file_n}.json', 'w') as json_file:\n",
    "        json.dump(data_main, json_file)\n"
   ]
  },
  {
   "cell_type": "code",
   "execution_count": 93,
   "metadata": {},
   "outputs": [
    {
     "data": {
      "text/plain": [
       "[]"
      ]
     },
     "execution_count": 93,
     "metadata": {},
     "output_type": "execute_result"
    }
   ],
   "source": [
    "data_main"
   ]
  },
  {
   "cell_type": "code",
   "execution_count": 94,
   "metadata": {},
   "outputs": [],
   "source": [
    "data_main = []\n",
    "for folder in os.listdir(f'data_station_wise/'):\n",
    "    if folder != '.DS_Store' and folder != '.ipynb_checkpoints':\n",
    "        file_dt = f'./data_station_wise/{folder}/{file_n}.json'\n",
    "        f = open(file_dt)\n",
    "        data = json.load(f)\n",
    "        data_main += data"
   ]
  },
  {
   "cell_type": "code",
   "execution_count": 95,
   "metadata": {},
   "outputs": [
    {
     "data": {
      "text/plain": [
       "[]"
      ]
     },
     "execution_count": 95,
     "metadata": {},
     "output_type": "execute_result"
    }
   ],
   "source": [
    "data_main"
   ]
  },
  {
   "cell_type": "code",
   "execution_count": 97,
   "metadata": {},
   "outputs": [],
   "source": [
    "file_dt = f'./data_station_wise/{folder}/{file_n}.json'\n",
    "f = open(file_dt)\n",
    "data = json.load(f)"
   ]
  },
  {
   "cell_type": "code",
   "execution_count": 98,
   "metadata": {},
   "outputs": [
    {
     "data": {
      "text/plain": [
       "[]"
      ]
     },
     "execution_count": 98,
     "metadata": {},
     "output_type": "execute_result"
    }
   ],
   "source": [
    "data"
   ]
  },
  {
   "cell_type": "markdown",
   "metadata": {},
   "source": [
    "## Fetching the data from 01-06-2022 to 01-07-2022"
   ]
  },
  {
   "cell_type": "code",
   "execution_count": 67,
   "metadata": {},
   "outputs": [],
   "source": [
    "data_main = []"
   ]
  },
  {
   "cell_type": "code",
   "execution_count": 72,
   "metadata": {},
   "outputs": [
    {
     "name": "stdout",
     "output_type": "stream",
     "text": [
      "1 2\n",
      "2 3\n",
      "3 4\n",
      "4 5\n",
      "5 6\n",
      "6 7\n"
     ]
    }
   ],
   "source": [
    "for i in range(1, 7):\n",
    "    print(i, i+1)\n",
    "    station_code = 'mc042'\n",
    "    data_api = f\"https://luftdaten.berlin.de/api/stations/{station_code}/data?period=1h&timespan=custom&start=01.{i}.2022%2000%3A00&end=01.{i+1}.2022%2000%3A00\"\n",
    "    dt = requests.get(data_api)\n",
    "    data_main += dt.json()"
   ]
  },
  {
   "cell_type": "code",
   "execution_count": 69,
   "metadata": {},
   "outputs": [],
   "source": [
    "data_api = f\"https://luftdaten.berlin.de/api/stations/{station_code}/data?period=1h&timespan=custom&start=01.12.2021%2000%3A00&end=01.1.2022%2000%3A00\"\n",
    "dt = requests.get(data_api)\n"
   ]
  },
  {
   "cell_type": "code",
   "execution_count": 71,
   "metadata": {},
   "outputs": [],
   "source": [
    "data_main += dt.json()"
   ]
  },
  {
   "cell_type": "code",
   "execution_count": 73,
   "metadata": {},
   "outputs": [],
   "source": [
    "with open(f'mc042_01-01-21-01-07-22.json', 'w') as json_file:\n",
    "    json.dump(data_main, json_file)"
   ]
  },
  {
   "cell_type": "code",
   "execution_count": 19,
   "metadata": {},
   "outputs": [],
   "source": [
    "data_api = f\"https://luftdaten.berlin.de/api/stations/{station_code}/data?period=1h&timespan=custom&start=01.11.2021%2000%3A00&end=01.12.2021%2000%3A00\"\n",
    "dt = requests.get(data_api)\n",
    "data_main += dt.json()"
   ]
  },
  {
   "cell_type": "code",
   "execution_count": null,
   "metadata": {},
   "outputs": [],
   "source": [
    "path = os.path.join(os.getcwd(), f'01-{i}-22-01-{i+1}-22') \n",
    "if not os.path.isdir(path): \n",
    "    os.makedirs(path)\n",
    "with open(f'01-01-22-01-01-22/{station_code}.json', 'w') as json_file:\n",
    "    json.dump(dt.json(), json_file)\n"
   ]
  },
  {
   "cell_type": "code",
   "execution_count": 4,
   "metadata": {},
   "outputs": [],
   "source": [
    "station_code = 'MC221'\n",
    "data_api = f\"https://luftdaten.berlin.de/api/stations/{station_code}/data?period=1h&timespan=custom&start=01.06.2021%2000%3A00&end=01.07.2021%2000%3A00\"\n",
    "dt = requests.get(data_api)"
   ]
  },
  {
   "cell_type": "code",
   "execution_count": 7,
   "metadata": {},
   "outputs": [],
   "source": [
    "data_main = dt.json()"
   ]
  },
  {
   "cell_type": "code",
   "execution_count": 38,
   "metadata": {},
   "outputs": [
    {
     "data": {
      "text/plain": [
       "({'datetime': '2021-07-01T00:00:00+02:00',\n",
       "  'station': 'MC221',\n",
       "  'core': 'pm10',\n",
       "  'component': 'pm10_1h',\n",
       "  'period': '1h',\n",
       "  'value': 19},\n",
       " {'datetime': '2021-11-01T01:00:00+01:00',\n",
       "  'station': 'MC221',\n",
       "  'core': 'pm10',\n",
       "  'component': 'pm10_1h',\n",
       "  'period': '1h',\n",
       "  'value': 35})"
      ]
     },
     "execution_count": 38,
     "metadata": {},
     "output_type": "execute_result"
    }
   ],
   "source": [
    "data_main[0], data_main[-10]"
   ]
  },
  {
   "cell_type": "code",
   "execution_count": 13,
   "metadata": {},
   "outputs": [
    {
     "data": {
      "text/plain": [
       "26230"
      ]
     },
     "execution_count": 13,
     "metadata": {},
     "output_type": "execute_result"
    }
   ],
   "source": [
    "len(data_main)"
   ]
  },
  {
   "cell_type": "code",
   "execution_count": null,
   "metadata": {},
   "outputs": [],
   "source": []
  }
 ],
 "metadata": {
  "kernelspec": {
   "display_name": "arena_venv",
   "language": "python",
   "name": "arena_venv"
  },
  "language_info": {
   "codemirror_mode": {
    "name": "ipython",
    "version": 3
   },
   "file_extension": ".py",
   "mimetype": "text/x-python",
   "name": "python",
   "nbconvert_exporter": "python",
   "pygments_lexer": "ipython3",
   "version": "3.7.4"
  }
 },
 "nbformat": 4,
 "nbformat_minor": 4
}
